{
 "cells": [
  {
   "cell_type": "code",
   "execution_count": 1,
   "id": "960231ec-94db-4f1a-8125-56a87ddd9435",
   "metadata": {
    "tags": []
   },
   "outputs": [],
   "source": [
    "import sys, os\n",
    "sys.path.append(\"..\")\n",
    "os.chdir(\"..\")\n",
    "# !{sys.executable} -m pip install -r ../requirements.txt"
   ]
  },
  {
   "cell_type": "code",
   "execution_count": 2,
   "id": "e5f6082e-46d5-403b-89a8-38f5dabe2347",
   "metadata": {
    "tags": []
   },
   "outputs": [
    {
     "name": "stderr",
     "output_type": "stream",
     "text": [
      "[nltk_data] Downloading package punkt to datasets/nltk_data...\n",
      "[nltk_data]   Unzipping tokenizers/punkt.zip.\n"
     ]
    },
    {
     "data": {
      "text/plain": [
       "True"
      ]
     },
     "execution_count": 2,
     "metadata": {},
     "output_type": "execute_result"
    }
   ],
   "source": [
    "import nltk\n",
    "from basix import files\n",
    "\n",
    "from llm import data, models\n",
    "from llm.config import config\n",
    "from llm.tokenize import SentencesTokenizer\n",
    "from llm.embed import CBOWEmbedder\n",
    "\n",
    "nltk.download('punkt', download_dir = \"datasets/nltk_data\")"
   ]
  },
  {
   "cell_type": "code",
   "execution_count": 3,
   "id": "71830336-fc13-4728-8f40-5c47f971101f",
   "metadata": {
    "tags": []
   },
   "outputs": [
    {
     "name": "stderr",
     "output_type": "stream",
     "text": [
      "2023-03-19 19:29:55.943 | INFO     | llm.data:load_corpus:17 - Downloading corpus\n",
      "2023-03-19 19:36:54.774 | DEBUG    | llm.data:load_corpus:25 - Importing news from datasets/raw/brazilian-news.parquet\n",
      "2023-03-19 19:36:56.460 | DEBUG    | llm.data:load_corpus:29 - Using a sample of size 50000\n",
      "2023-03-19 19:36:56.482 | DEBUG    | llm.data:load_corpus:34 - Importing news titles from datasets/raw/title.parquet\n",
      "2023-03-19 19:36:56.484 | DEBUG    | llm.data:load_corpus:37 - Importing news texts from datasets/raw/text.parquet\n",
      "2023-03-19 19:36:57.259 | DEBUG    | llm.tokenize:save:32 - Saving object SentencesTokenizer to models/tokenizer.bin\n",
      "2023-03-19 19:38:03.843 | DEBUG    | llm.embed:get_vocab:220 - Get frequency of tokens\n",
      "2023-03-19 19:38:03.845 | DEBUG    | llm.embed:count_tokens:205 - Counting tokens\n",
      "2023-03-19 19:38:06.648 | DEBUG    | llm.embed:fit:116 - Building vocabulary from token frequencies\n",
      "2023-03-19 19:38:07.057 | DEBUG    | llm.embed:fit:124 - Training model\n",
      "2023-03-19 19:38:14.340 | DEBUG    | llm.embed:on_epoch_end:256 - Epoch #0 end. Loss: 12006067.0\n",
      "2023-03-19 19:39:26.749 | DEBUG    | llm.embed:on_epoch_end:256 - Epoch #10 end. Loss: 55966661.0\n",
      "2023-03-19 19:40:39.127 | DEBUG    | llm.embed:on_epoch_end:256 - Epoch #20 end. Loss: 10964040.0\n",
      "2023-03-19 19:41:51.367 | DEBUG    | llm.embed:on_epoch_end:256 - Epoch #30 end. Loss: 11514312.0\n",
      "2023-03-19 19:43:03.726 | DEBUG    | llm.embed:on_epoch_end:256 - Epoch #40 end. Loss: 11468840.0\n",
      "2023-03-19 19:44:16.044 | DEBUG    | llm.embed:on_epoch_end:256 - Epoch #50 end. Loss: 11018568.0\n",
      "2023-03-19 19:45:28.326 | DEBUG    | llm.embed:on_epoch_end:256 - Epoch #60 end. Loss: 10250144.0\n",
      "2023-03-19 19:46:40.718 | DEBUG    | llm.embed:on_epoch_end:256 - Epoch #70 end. Loss: 9181448.0\n",
      "2023-03-19 19:47:52.961 | DEBUG    | llm.embed:on_epoch_end:256 - Epoch #80 end. Loss: 1847648.0\n",
      "2023-03-19 19:49:05.102 | DEBUG    | llm.embed:on_epoch_end:256 - Epoch #90 end. Loss: 0.0\n",
      "2023-03-19 19:50:10.207 | DEBUG    | llm.embed:save:183 - Saving object CBOWEmbedder to models/embedder.bin\n",
      "2023-03-19 19:50:10.523 | DEBUG    | llm.embed:save_w2v:189 - Saving object KeyedVectors to models/w2v.bin\n"
     ]
    }
   ],
   "source": [
    "texts, titles = data.load_corpus(sample=50000)\n",
    "\n",
    "models.train_embedding(texts + titles)"
   ]
  },
  {
   "cell_type": "code",
   "execution_count": 4,
   "id": "d0d80f85-2a93-4f4f-844f-a93c24916880",
   "metadata": {
    "tags": []
   },
   "outputs": [],
   "source": [
    "embedder = models.load_embedder()"
   ]
  },
  {
   "cell_type": "code",
   "execution_count": 5,
   "id": "35c01146-cb81-4128-9add-9bb0bbe3baba",
   "metadata": {
    "tags": []
   },
   "outputs": [
    {
     "data": {
      "text/plain": [
       "[('▁oito', 0.8818659782409668),\n",
       " ('▁três', 0.8805197477340698),\n",
       " ('▁nove', 0.8767437934875488),\n",
       " ('▁cinco', 0.8675156831741333),\n",
       " ('▁seis', 0.8658132553100586),\n",
       " ('▁quatro', 0.8626956343650818),\n",
       " ('▁sete', 0.8586714267730713),\n",
       " ('▁dez', 0.8556533455848694),\n",
       " ('▁doze', 0.8432278037071228),\n",
       " ('▁vários', 0.8210194110870361)]"
      ]
     },
     "execution_count": 5,
     "metadata": {},
     "output_type": "execute_result"
    }
   ],
   "source": [
    "embedder.wv.most_similar(\"▁dois\")"
   ]
  },
  {
   "cell_type": "code",
   "execution_count": 6,
   "id": "77186044-bddb-490c-a7c1-4b539bfa9147",
   "metadata": {
    "tags": []
   },
   "outputs": [
    {
     "data": {
      "text/plain": [
       "array([ 0.55187464,  5.5027366 , -4.0768576 ,  5.301033  ,  2.6962087 ,\n",
       "       -4.165298  ,  3.8603427 , -0.41467813,  6.344941  , -2.4323523 ,\n",
       "        3.8191762 ,  2.73626   , -1.9551971 , -2.2461956 ,  1.6697266 ,\n",
       "       -2.2859087 ,  1.1564562 , -2.6857326 , -0.5253412 ,  1.5930126 ,\n",
       "       -2.709466  ,  4.6124907 , -6.242397  ,  3.0953531 , -1.2719523 ,\n",
       "        5.911045  , -3.1820557 ,  0.1759829 ,  1.3948066 ,  1.9961653 ,\n",
       "        0.46453694, -0.78711486,  1.3444343 , -2.3331785 , -1.244722  ,\n",
       "       -8.008204  ,  4.4814024 ,  3.0720682 ,  2.1089582 ,  1.9545305 ,\n",
       "        2.7840543 ,  5.9298887 ,  0.36993605,  2.3332198 ,  2.252326  ,\n",
       "        4.178271  ,  5.034693  , -4.675511  , -2.5074162 ,  4.0836825 ],\n",
       "      dtype=float32)"
      ]
     },
     "execution_count": 6,
     "metadata": {},
     "output_type": "execute_result"
    }
   ],
   "source": [
    "embedder.get_vector(\"▁homem\")"
   ]
  },
  {
   "cell_type": "code",
   "execution_count": 7,
   "id": "5c45f5ea-38dd-41aa-a82c-f7c2f68ab21f",
   "metadata": {
    "tags": []
   },
   "outputs": [
    {
     "data": {
      "text/plain": [
       "[('▁menino', 0.9016237258911133),\n",
       " ('▁rapaz', 0.8962334394454956),\n",
       " ('▁garoto', 0.8771975040435791),\n",
       " ('▁monstro', 0.8325279355049133),\n",
       " ('▁assassino', 0.8202380537986755),\n",
       " ('▁soldado', 0.8094573616981506),\n",
       " ('▁psicopata', 0.7974870204925537),\n",
       " ('▁bandido', 0.7691475749015808),\n",
       " ('▁assaltante', 0.767134964466095),\n",
       " ('▁gângster', 0.767102837562561)]"
      ]
     },
     "execution_count": 7,
     "metadata": {},
     "output_type": "execute_result"
    }
   ],
   "source": [
    "embedder.wv.most_similar(\"▁homem\")"
   ]
  },
  {
   "cell_type": "code",
   "execution_count": 8,
   "id": "3b296154-f535-4c1f-b3d2-cb3e8b248a1e",
   "metadata": {
    "tags": []
   },
   "outputs": [
    {
     "data": {
      "text/plain": [
       "[('▁esposa', 0.919205904006958),\n",
       " ('▁mãe', 0.9189878702163696),\n",
       " ('▁filha', 0.9110945463180542),\n",
       " ('▁irmã', 0.8969966173171997),\n",
       " ('▁amiga', 0.8900223970413208),\n",
       " ('▁namorada', 0.8805708289146423),\n",
       " ('▁companheira', 0.8763901591300964),\n",
       " ('▁menina', 0.8628207445144653),\n",
       " ('▁avó', 0.8554494976997375),\n",
       " ('▁família', 0.8243250250816345)]"
      ]
     },
     "execution_count": 8,
     "metadata": {},
     "output_type": "execute_result"
    }
   ],
   "source": [
    "embedder.wv.most_similar(\"▁mulher\")"
   ]
  },
  {
   "cell_type": "code",
   "execution_count": 9,
   "id": "43dad988-b3f8-41f5-a18a-ae0c62bfc1f8",
   "metadata": {
    "tags": []
   },
   "outputs": [
    {
     "data": {
      "text/plain": [
       "[('▁caminhão', 0.9161430597305298),\n",
       " ('▁veículo', 0.9084140658378601),\n",
       " ('▁helicóptero', 0.8335139155387878),\n",
       " ('▁motorista', 0.8235732913017273),\n",
       " ('▁barraco', 0.8155999183654785),\n",
       " ('▁carrinho', 0.8109743595123291),\n",
       " ('▁cadeado', 0.8107277154922485),\n",
       " ('▁trator', 0.8051468729972839),\n",
       " ('▁avião', 0.7973304390907288),\n",
       " ('▁isqueiro', 0.7967526316642761)]"
      ]
     },
     "execution_count": 9,
     "metadata": {},
     "output_type": "execute_result"
    }
   ],
   "source": [
    "embedder.wv.most_similar(\"▁carro\")"
   ]
  },
  {
   "cell_type": "code",
   "execution_count": 10,
   "id": "dbb22fb8-8094-4987-a929-e6ba41bb657c",
   "metadata": {
    "tags": []
   },
   "outputs": [
    {
     "data": {
      "text/plain": [
       "[('▁helicóptero', 0.8947166204452515),\n",
       " ('▁navio', 0.8689079284667969),\n",
       " ('▁voo', 0.842040479183197),\n",
       " ('▁barco', 0.8307867646217346),\n",
       " ('▁caminhão', 0.8072640299797058),\n",
       " ('▁comboio', 0.799843966960907),\n",
       " ('▁carro', 0.7973304986953735),\n",
       " ('▁drone', 0.7594515681266785),\n",
       " ('▁trem', 0.7550801038742065),\n",
       " ('▁artefato', 0.7472125887870789)]"
      ]
     },
     "execution_count": 10,
     "metadata": {},
     "output_type": "execute_result"
    }
   ],
   "source": [
    "embedder.wv.most_similar(\"▁avião\")"
   ]
  },
  {
   "cell_type": "code",
   "execution_count": 11,
   "id": "2d6dfd58-958a-425d-a1b3-deec4f1b7b3e",
   "metadata": {
    "tags": []
   },
   "outputs": [
    {
     "data": {
      "text/plain": [
       "[('▁sambódromo', 0.8386654257774353),\n",
       " ('▁réveillon', 0.8329023122787476),\n",
       " ('▁desfile', 0.809824526309967),\n",
       " ('▁feriado', 0.7618967294692993),\n",
       " ('▁palco', 0.7309406399726868),\n",
       " ('▁show', 0.7298406958580017),\n",
       " ('▁maracanã', 0.7293268442153931),\n",
       " ('▁baile', 0.7219941020011902),\n",
       " ('▁verão', 0.7211172580718994),\n",
       " ('▁samba', 0.7188299298286438)]"
      ]
     },
     "execution_count": 11,
     "metadata": {},
     "output_type": "execute_result"
    }
   ],
   "source": [
    "embedder.wv.most_similar(\"▁carnaval\")"
   ]
  },
  {
   "cell_type": "code",
   "execution_count": 12,
   "id": "1de2fa29-b440-44d7-9010-4772d896220b",
   "metadata": {
    "tags": []
   },
   "outputs": [
    {
     "data": {
      "text/plain": [
       "[('▁palmeiras', 0.988167941570282),\n",
       " ('▁flamengo', 0.9452130794525146),\n",
       " ('▁grêmio', 0.9402538537979126),\n",
       " ('▁vasco', 0.9216318130493164),\n",
       " ('▁audax', 0.9178780317306519),\n",
       " ('▁coritiba', 0.9114841818809509),\n",
       " ('▁figueirense', 0.8990481495857239),\n",
       " ('▁avaí', 0.8778077960014343),\n",
       " ('▁sport', 0.8654480576515198),\n",
       " ('▁ituano', 0.864364504814148)]"
      ]
     },
     "execution_count": 12,
     "metadata": {},
     "output_type": "execute_result"
    }
   ],
   "source": [
    "embedder.wv.most_similar(\"▁corinthians\")"
   ]
  },
  {
   "cell_type": "code",
   "execution_count": 13,
   "id": "39ec4875-b8c5-46ab-97e0-4fe3e3b80408",
   "metadata": {
    "tags": []
   },
   "outputs": [
    {
     "data": {
      "text/plain": [
       "0.79733044"
      ]
     },
     "execution_count": 13,
     "metadata": {},
     "output_type": "execute_result"
    }
   ],
   "source": [
    "embedder.wv.similarity(\"▁carro\", \"▁avião\")"
   ]
  },
  {
   "cell_type": "code",
   "execution_count": 14,
   "id": "18f70eaa-cb2f-4fd0-b4dd-fa4bc9daa631",
   "metadata": {
    "tags": []
   },
   "outputs": [
    {
     "data": {
      "text/plain": [
       "0.4609001"
      ]
     },
     "execution_count": 14,
     "metadata": {},
     "output_type": "execute_result"
    }
   ],
   "source": [
    "embedder.wv.similarity(\"▁velho\", \"▁homem\")"
   ]
  },
  {
   "cell_type": "code",
   "execution_count": 15,
   "id": "4cc06b87-c769-472e-81cf-f3e5651ea21b",
   "metadata": {
    "tags": []
   },
   "outputs": [
    {
     "data": {
      "text/plain": [
       "0.370558"
      ]
     },
     "execution_count": 15,
     "metadata": {},
     "output_type": "execute_result"
    }
   ],
   "source": [
    "embedder.wv.similarity(\"▁velha\", \"▁mulher\")"
   ]
  },
  {
   "cell_type": "code",
   "execution_count": 16,
   "id": "c2e60055-37fa-4ee0-9ad5-f6eb14119e73",
   "metadata": {
    "tags": []
   },
   "outputs": [
    {
     "data": {
      "text/plain": [
       "0.5955114"
      ]
     },
     "execution_count": 16,
     "metadata": {},
     "output_type": "execute_result"
    }
   ],
   "source": [
    "embedder.wv.similarity(\"▁novela\", \"▁globo\")"
   ]
  },
  {
   "cell_type": "code",
   "execution_count": 17,
   "id": "e8fc4065-a29d-4e6d-8282-a4cd03933971",
   "metadata": {
    "tags": []
   },
   "outputs": [
    {
     "data": {
      "text/plain": [
       "[('▁cripta', 0.6613151431083679),\n",
       " ('▁catedral', 0.6422143578529358),\n",
       " ('▁reconquista', 0.6272261738777161),\n",
       " ('▁basílica', 0.6223191618919373),\n",
       " ('▁praça', 0.6196295022964478),\n",
       " ('▁aldeia', 0.6157777905464172),\n",
       " ('▁penumbra', 0.6143449544906616),\n",
       " ('▁pracinhas', 0.6041625142097473),\n",
       " ('▁pracinha', 0.6038516163825989),\n",
       " ('▁selva', 0.590221107006073)]"
      ]
     },
     "execution_count": 17,
     "metadata": {},
     "output_type": "execute_result"
    }
   ],
   "source": [
    "embedder.wv.most_similar(\"▁cidadela\")"
   ]
  },
  {
   "cell_type": "code",
   "execution_count": 18,
   "id": "0754415c-f7b6-47a0-8de3-e39b8f5b9a2e",
   "metadata": {
    "tags": []
   },
   "outputs": [
    {
     "data": {
      "text/plain": [
       "[('▁banheiro', 0.7977666854858398),\n",
       " ('▁carrinho', 0.7901975512504578),\n",
       " ('▁estacionamento', 0.7857232093811035),\n",
       " ('▁supermercado', 0.7843477725982666),\n",
       " ('▁carro', 0.7783735394477844),\n",
       " ('▁semáforo', 0.7750163078308105),\n",
       " ('▁táxi', 0.7626816034317017),\n",
       " ('▁quarteirão', 0.7606608867645264),\n",
       " ('▁pátio', 0.7603944540023804),\n",
       " ('▁prédio', 0.7587569355964661)]"
      ]
     },
     "execution_count": 18,
     "metadata": {},
     "output_type": "execute_result"
    }
   ],
   "source": [
    "embedder.wv.most_similar(\"▁elevador\")"
   ]
  },
  {
   "cell_type": "code",
   "execution_count": 19,
   "id": "28358335-81c1-4238-a6de-aa24d94651e6",
   "metadata": {
    "tags": []
   },
   "outputs": [
    {
     "data": {
      "text/plain": [
       "[('▁motociclista', 0.8642890453338623),\n",
       " ('▁veículo', 0.84788578748703),\n",
       " ('▁ciclista', 0.844847559928894),\n",
       " ('▁carro', 0.8235732316970825),\n",
       " ('▁taxista', 0.8129534125328064),\n",
       " ('▁passageiro', 0.7972403764724731),\n",
       " ('▁caminhão', 0.7930951714515686),\n",
       " ('▁cobrador', 0.7687108516693115),\n",
       " ('▁guincho', 0.750742495059967),\n",
       " ('▁porteiro', 0.7488871216773987)]"
      ]
     },
     "execution_count": 19,
     "metadata": {},
     "output_type": "execute_result"
    }
   ],
   "source": [
    "embedder.wv.most_similar(\"▁motorista\")"
   ]
  },
  {
   "cell_type": "code",
   "execution_count": null,
   "id": "a92c1a77-ff46-45fc-b44e-36247db2b8dc",
   "metadata": {},
   "outputs": [],
   "source": []
  }
 ],
 "metadata": {
  "kernelspec": {
   "display_name": "deep-learning",
   "language": "python",
   "name": "deep-learning"
  },
  "language_info": {
   "codemirror_mode": {
    "name": "ipython",
    "version": 3
   },
   "file_extension": ".py",
   "mimetype": "text/x-python",
   "name": "python",
   "nbconvert_exporter": "python",
   "pygments_lexer": "ipython3",
   "version": "3.10.9"
  }
 },
 "nbformat": 4,
 "nbformat_minor": 5
}
