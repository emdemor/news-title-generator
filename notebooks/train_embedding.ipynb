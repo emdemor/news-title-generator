{
 "cells": [
  {
   "cell_type": "code",
   "execution_count": 1,
   "id": "960231ec-94db-4f1a-8125-56a87ddd9435",
   "metadata": {
    "tags": []
   },
   "outputs": [],
   "source": [
    "import sys, os\n",
    "sys.path.append(\"..\")\n",
    "os.chdir(\"..\")\n",
    "# !{sys.executable} -m pip install -r ../requirements.txt"
   ]
  },
  {
   "cell_type": "code",
   "execution_count": 2,
   "id": "e5f6082e-46d5-403b-89a8-38f5dabe2347",
   "metadata": {
    "tags": []
   },
   "outputs": [
    {
     "name": "stderr",
     "output_type": "stream",
     "text": [
      "[nltk_data] Downloading package punkt to datasets/nltk_data...\n",
      "[nltk_data]   Package punkt is already up-to-date!\n"
     ]
    },
    {
     "data": {
      "text/plain": [
       "True"
      ]
     },
     "execution_count": 2,
     "metadata": {},
     "output_type": "execute_result"
    }
   ],
   "source": [
    "import nltk\n",
    "from basix import files\n",
    "\n",
    "from llm import data, models\n",
    "from llm.config import config\n",
    "from llm.tokenize import SentencesTokenizer\n",
    "from llm.embed import CBOWEmbedder\n",
    "\n",
    "nltk.download('punkt', download_dir = \"datasets/nltk_data\")"
   ]
  },
  {
   "cell_type": "code",
   "execution_count": 3,
   "id": "71830336-fc13-4728-8f40-5c47f971101f",
   "metadata": {
    "tags": []
   },
   "outputs": [
    {
     "name": "stderr",
     "output_type": "stream",
     "text": [
      "2023-03-22 00:19:32.238 | DEBUG    | llm.data:load_corpus:20 - Corpus already exists in datasets/raw/brazilian-news.parquet. Skipping downloading corpus.\n",
      "2023-03-22 00:19:32.238 | DEBUG    | llm.data:load_corpus:25 - Importing news from datasets/raw/brazilian-news.parquet\n",
      "2023-03-22 00:19:33.953 | DEBUG    | llm.data:load_corpus:43 - Using a sample of size 5000\n",
      "2023-03-22 00:19:33.973 | DEBUG    | llm.data:load_corpus:48 - Importing news titles from datasets/raw/title.parquet\n",
      "2023-03-22 00:19:33.975 | DEBUG    | llm.data:load_corpus:51 - Importing news texts from datasets/raw/text.parquet\n",
      "2023-03-22 00:19:34.779 | DEBUG    | llm.tokenize:save:40 - Saving object SentencesTokenizer to models/version=0.1.0/tokenizer.bin\n",
      "2023-03-22 00:19:42.507 | DEBUG    | llm.embed:get_vocab:220 - Get frequency of tokens\n",
      "2023-03-22 00:19:42.507 | DEBUG    | llm.embed:count_tokens:205 - Counting tokens\n",
      "2023-03-22 00:19:42.851 | DEBUG    | llm.embed:fit:116 - Building vocabulary from token frequencies\n",
      "2023-03-22 00:19:42.971 | DEBUG    | llm.embed:fit:124 - Training model\n",
      "2023-03-22 00:19:43.655 | DEBUG    | llm.embed:on_epoch_end:256 - Epoch #0 end. Loss: 1685655.75\n",
      "2023-03-22 00:19:50.225 | DEBUG    | llm.embed:on_epoch_end:256 - Epoch #10 end. Loss: 10518637.25\n",
      "2023-03-22 00:19:56.568 | DEBUG    | llm.embed:on_epoch_end:256 - Epoch #20 end. Loss: 8325723.0\n",
      "2023-03-22 00:20:02.622 | DEBUG    | llm.embed:on_epoch_end:256 - Epoch #30 end. Loss: 7514988.0\n",
      "2023-03-22 00:20:08.837 | DEBUG    | llm.embed:on_epoch_end:256 - Epoch #40 end. Loss: 6648716.0\n",
      "2023-03-22 00:20:14.770 | DEBUG    | llm.embed:on_epoch_end:256 - Epoch #50 end. Loss: 4298576.0\n",
      "2023-03-22 00:20:21.025 | DEBUG    | llm.embed:on_epoch_end:256 - Epoch #60 end. Loss: 4185444.0\n",
      "2023-03-22 00:20:27.598 | DEBUG    | llm.embed:on_epoch_end:256 - Epoch #70 end. Loss: 4023724.0\n",
      "2023-03-22 00:20:33.728 | DEBUG    | llm.embed:on_epoch_end:256 - Epoch #80 end. Loss: 3796912.0\n",
      "2023-03-22 00:20:39.785 | DEBUG    | llm.embed:on_epoch_end:256 - Epoch #90 end. Loss: 3523596.0\n",
      "2023-03-22 00:20:45.408 | DEBUG    | llm.embed:save:183 - Saving object CBOWEmbedder to models/version=0.1.0/embedder.bin\n",
      "2023-03-22 00:20:45.530 | DEBUG    | llm.embed:save_w2v:189 - Saving object KeyedVectors to models/version=0.1.0/w2v.bin\n"
     ]
    }
   ],
   "source": [
    "texts, titles = data.load_corpus(sample=5000)\n",
    "texts = models.add_sentences_bounders(texts)\n",
    "titles = models.add_sentences_bounders(titles)\n",
    "models.train_embedding(texts + titles)"
   ]
  },
  {
   "cell_type": "code",
   "execution_count": 4,
   "id": "d0d80f85-2a93-4f4f-844f-a93c24916880",
   "metadata": {
    "tags": []
   },
   "outputs": [],
   "source": [
    "embedder = models.load_embedder()"
   ]
  },
  {
   "cell_type": "code",
   "execution_count": 10,
   "id": "35c01146-cb81-4128-9add-9bb0bbe3baba",
   "metadata": {
    "tags": []
   },
   "outputs": [
    {
     "data": {
      "text/plain": [
       "[('>>', 0.5668286681175232),\n",
       " ('>', 0.5294345021247864),\n",
       " ('€', 0.5219699144363403),\n",
       " ('▁', 0.4595997929573059),\n",
       " ('£', 0.4366341233253479),\n",
       " ('\\t\\t', 0.3991929888725281),\n",
       " ('-0,', 0.39449915289878845),\n",
       " ('▁derrubou', 0.3822166919708252),\n",
       " ('▁ligando', 0.37608006596565247),\n",
       " ('cci', 0.37588194012641907)]"
      ]
     },
     "execution_count": 10,
     "metadata": {},
     "output_type": "execute_result"
    }
   ],
   "source": [
    "embedder.wv.most_similar(CBOWEmbedder.BOS_TOKEN)"
   ]
  },
  {
   "cell_type": "code",
   "execution_count": 7,
   "id": "77186044-bddb-490c-a7c1-4b539bfa9147",
   "metadata": {
    "tags": []
   },
   "outputs": [
    {
     "data": {
      "text/plain": [
       "array([-7.536561  ,  5.933401  ,  0.6187753 , -2.3289287 , -0.84858775,\n",
       "       -0.14877889, -1.8523841 ,  0.16903155, -2.4088826 , -3.0649905 ,\n",
       "        7.6859555 ,  0.33090043, -2.7510054 ,  0.3010274 , -1.2486334 ,\n",
       "        1.9076943 , -5.992971  , 11.228995  , -3.895623  ,  2.447707  ,\n",
       "        1.9717797 ,  3.113983  , -2.6431715 ,  1.0511457 , -7.209068  ,\n",
       "       -4.1424723 ,  8.850199  ,  2.9715488 ,  4.114443  , -3.189367  ,\n",
       "       -3.7833989 ,  0.74427783,  3.696027  , -0.8850096 , -0.7995357 ,\n",
       "       -1.7977155 , -2.0976944 ,  2.9006517 ,  4.3938727 ,  6.9386654 ,\n",
       "       -0.215652  ,  1.551266  , -3.7779856 ,  7.268516  , -0.27166277,\n",
       "       -0.6554005 , -1.3334842 , -7.117916  , -0.09126865, -3.3231657 ],\n",
       "      dtype=float32)"
      ]
     },
     "execution_count": 7,
     "metadata": {},
     "output_type": "execute_result"
    }
   ],
   "source": [
    "embedder.get_vector(CBOWEmbedder.EOS_TOKEN)"
   ]
  },
  {
   "cell_type": "code",
   "execution_count": 8,
   "id": "0fe60d1d-7d64-4353-9f08-c32c603dbe14",
   "metadata": {
    "tags": []
   },
   "outputs": [
    {
     "data": {
      "text/plain": [
       "array([ 2.0516112 ,  0.5460906 ,  3.5389216 ,  4.58747   ,  3.8792078 ,\n",
       "       -2.1334107 , -1.6294664 , -1.489188  ,  5.359088  ,  4.6826706 ,\n",
       "        1.2785103 ,  0.25752318,  0.5211788 , -1.0169088 ,  0.5999197 ,\n",
       "        5.088517  , -5.93022   ,  4.654507  ,  5.5745335 , -2.761407  ,\n",
       "        7.3476663 , -2.099737  , -0.65082085, -7.75343   , -7.189428  ,\n",
       "       -4.702558  ,  5.2056255 ,  0.27417338,  3.5714724 ,  1.7072576 ,\n",
       "       -4.8536625 ,  4.954135  , -6.3252835 , -6.5368013 ,  2.599607  ,\n",
       "       -2.4672308 , -1.2014526 , -3.6835396 ,  0.7581682 ,  0.61227524,\n",
       "       -1.2981459 , -4.1826286 , -2.5234587 ,  1.8639513 ,  4.0841446 ,\n",
       "       -3.989973  , -0.7245973 , -2.2857013 ,  2.1859655 ,  1.2845471 ],\n",
       "      dtype=float32)"
      ]
     },
     "execution_count": 8,
     "metadata": {},
     "output_type": "execute_result"
    }
   ],
   "source": [
    "embedder.get_vector(CBOWEmbedder.BOS_TOKEN)"
   ]
  },
  {
   "cell_type": "code",
   "execution_count": 6,
   "id": "5c45f5ea-38dd-41aa-a82c-f7c2f68ab21f",
   "metadata": {
    "tags": []
   },
   "outputs": [
    {
     "data": {
      "text/plain": [
       "[('▁rapaz', 0.8976976275444031),\n",
       " ('▁garoto', 0.8968115448951721),\n",
       " ('▁menino', 0.8940575122833252),\n",
       " ('▁assassino', 0.8306339383125305),\n",
       " ('▁pinguim', 0.8259885311126709),\n",
       " ('▁monstro', 0.8233861327171326),\n",
       " ('▁soldado', 0.8025341629981995),\n",
       " ('▁assaltante', 0.7978926301002502),\n",
       " ('▁felino', 0.7970114350318909),\n",
       " ('▁cão', 0.7948576211929321)]"
      ]
     },
     "execution_count": 6,
     "metadata": {},
     "output_type": "execute_result"
    }
   ],
   "source": [
    "embedder.wv.most_similar(\"▁homem\")"
   ]
  },
  {
   "cell_type": "code",
   "execution_count": 7,
   "id": "3b296154-f535-4c1f-b3d2-cb3e8b248a1e",
   "metadata": {
    "tags": []
   },
   "outputs": [
    {
     "data": {
      "text/plain": [
       "[('▁mãe', 0.9230387806892395),\n",
       " ('▁filha', 0.9159747958183289),\n",
       " ('▁esposa', 0.9079855680465698),\n",
       " ('▁irmã', 0.90696781873703),\n",
       " ('▁namorada', 0.901147723197937),\n",
       " ('▁amiga', 0.8933922052383423),\n",
       " ('▁menina', 0.8767526149749756),\n",
       " ('▁enteada', 0.8766278028488159),\n",
       " ('▁avó', 0.875297486782074),\n",
       " ('▁companheira', 0.8721087574958801)]"
      ]
     },
     "execution_count": 7,
     "metadata": {},
     "output_type": "execute_result"
    }
   ],
   "source": [
    "embedder.wv.most_similar(\"▁mulher\")"
   ]
  },
  {
   "cell_type": "code",
   "execution_count": 8,
   "id": "43dad988-b3f8-41f5-a18a-ae0c62bfc1f8",
   "metadata": {
    "tags": []
   },
   "outputs": [
    {
     "data": {
      "text/plain": [
       "[('▁veículo', 0.9137380123138428),\n",
       " ('▁caminhão', 0.9056364893913269),\n",
       " ('▁motorista', 0.8465127348899841),\n",
       " ('▁helicóptero', 0.8387037515640259),\n",
       " ('▁carrinho', 0.8258286714553833),\n",
       " ('▁elevador', 0.8252330422401428),\n",
       " ('▁barraco', 0.8244249820709229),\n",
       " ('▁pneu', 0.821903645992279),\n",
       " ('▁vagão', 0.8143818378448486),\n",
       " ('▁barco', 0.814140260219574)]"
      ]
     },
     "execution_count": 8,
     "metadata": {},
     "output_type": "execute_result"
    }
   ],
   "source": [
    "embedder.wv.most_similar(\"▁carro\")"
   ]
  },
  {
   "cell_type": "code",
   "execution_count": 9,
   "id": "dbb22fb8-8094-4987-a929-e6ba41bb657c",
   "metadata": {
    "tags": []
   },
   "outputs": [
    {
     "data": {
      "text/plain": [
       "[('▁helicóptero', 0.9103664755821228),\n",
       " ('▁navio', 0.8810691833496094),\n",
       " ('▁voo', 0.8689661026000977),\n",
       " ('▁barco', 0.8431477546691895),\n",
       " ('▁caminhão', 0.81184983253479),\n",
       " ('▁carro', 0.8110244274139404),\n",
       " ('▁drone', 0.8100888133049011),\n",
       " ('▁cargueiro', 0.8027729988098145),\n",
       " ('▁comboio', 0.7944729328155518),\n",
       " ('▁veículo', 0.7877556681632996)]"
      ]
     },
     "execution_count": 9,
     "metadata": {},
     "output_type": "execute_result"
    }
   ],
   "source": [
    "embedder.wv.most_similar(\"▁avião\")"
   ]
  },
  {
   "cell_type": "code",
   "execution_count": 10,
   "id": "2d6dfd58-958a-425d-a1b3-deec4f1b7b3e",
   "metadata": {
    "tags": []
   },
   "outputs": [
    {
     "data": {
      "text/plain": [
       "[('▁réveillon', 0.8524163365364075),\n",
       " ('▁sambódromo', 0.8183432817459106),\n",
       " ('▁desfile', 0.8170649409294128),\n",
       " ('▁baile', 0.7560688257217407),\n",
       " ('▁círio', 0.7525671720504761),\n",
       " ('▁feriado', 0.7357999682426453),\n",
       " ('▁show', 0.7356415390968323),\n",
       " ('▁palco', 0.7276540994644165),\n",
       " ('▁samba', 0.7203671336174011),\n",
       " ('▁verão', 0.7199791073799133)]"
      ]
     },
     "execution_count": 10,
     "metadata": {},
     "output_type": "execute_result"
    }
   ],
   "source": [
    "embedder.wv.most_similar(\"▁carnaval\")"
   ]
  },
  {
   "cell_type": "code",
   "execution_count": 11,
   "id": "1de2fa29-b440-44d7-9010-4772d896220b",
   "metadata": {
    "tags": []
   },
   "outputs": [
    {
     "data": {
      "text/plain": [
       "[('▁palmeiras', 0.9916632771492004),\n",
       " ('▁flamengo', 0.9533402919769287),\n",
       " ('▁grêmio', 0.946609377861023),\n",
       " ('▁audax', 0.9291609525680542),\n",
       " ('▁vasco', 0.926048219203949),\n",
       " ('▁coritiba', 0.9118771553039551),\n",
       " ('▁sport', 0.8998237252235413),\n",
       " ('▁figueirense', 0.8963984847068787),\n",
       " ('▁barça', 0.8899548053741455),\n",
       " ('▁avaí', 0.8875383138656616)]"
      ]
     },
     "execution_count": 11,
     "metadata": {},
     "output_type": "execute_result"
    }
   ],
   "source": [
    "embedder.wv.most_similar(\"▁corinthians\")"
   ]
  },
  {
   "cell_type": "code",
   "execution_count": 12,
   "id": "39ec4875-b8c5-46ab-97e0-4fe3e3b80408",
   "metadata": {
    "tags": []
   },
   "outputs": [
    {
     "data": {
      "text/plain": [
       "0.8110244"
      ]
     },
     "execution_count": 12,
     "metadata": {},
     "output_type": "execute_result"
    }
   ],
   "source": [
    "embedder.wv.similarity(\"▁carro\", \"▁avião\")"
   ]
  },
  {
   "cell_type": "code",
   "execution_count": 13,
   "id": "18f70eaa-cb2f-4fd0-b4dd-fa4bc9daa631",
   "metadata": {
    "tags": []
   },
   "outputs": [
    {
     "data": {
      "text/plain": [
       "0.48851633"
      ]
     },
     "execution_count": 13,
     "metadata": {},
     "output_type": "execute_result"
    }
   ],
   "source": [
    "embedder.wv.similarity(\"▁velho\", \"▁homem\")"
   ]
  },
  {
   "cell_type": "code",
   "execution_count": 14,
   "id": "4cc06b87-c769-472e-81cf-f3e5651ea21b",
   "metadata": {
    "tags": []
   },
   "outputs": [
    {
     "data": {
      "text/plain": [
       "0.33917713"
      ]
     },
     "execution_count": 14,
     "metadata": {},
     "output_type": "execute_result"
    }
   ],
   "source": [
    "embedder.wv.similarity(\"▁velha\", \"▁mulher\")"
   ]
  },
  {
   "cell_type": "code",
   "execution_count": 15,
   "id": "c2e60055-37fa-4ee0-9ad5-f6eb14119e73",
   "metadata": {
    "tags": []
   },
   "outputs": [
    {
     "data": {
      "text/plain": [
       "0.53674597"
      ]
     },
     "execution_count": 15,
     "metadata": {},
     "output_type": "execute_result"
    }
   ],
   "source": [
    "embedder.wv.similarity(\"▁novela\", \"▁globo\")"
   ]
  },
  {
   "cell_type": "code",
   "execution_count": 28,
   "id": "e8fc4065-a29d-4e6d-8282-a4cd03933971",
   "metadata": {
    "tags": []
   },
   "outputs": [
    {
     "data": {
      "text/plain": [
       "[('▁navio', 0.8869611024856567),\n",
       " ('▁avião', 0.8431476950645447),\n",
       " ('▁trem', 0.8282049298286438),\n",
       " ('▁jipe', 0.8266261219978333),\n",
       " ('▁caminhão', 0.8176475167274475),\n",
       " ('▁veleiro', 0.8168447017669678),\n",
       " ('▁carro', 0.814140260219574),\n",
       " ('▁helicóptero', 0.7995263338088989),\n",
       " ('▁píer', 0.7976621389389038),\n",
       " ('▁voo', 0.7964310646057129)]"
      ]
     },
     "execution_count": 28,
     "metadata": {},
     "output_type": "execute_result"
    }
   ],
   "source": [
    "embedder.wv.most_similar(\"▁barco\")"
   ]
  },
  {
   "cell_type": "code",
   "execution_count": 29,
   "id": "0754415c-f7b6-47a0-8de3-e39b8f5b9a2e",
   "metadata": {
    "tags": []
   },
   "outputs": [
    {
     "data": {
      "text/plain": [
       "[('▁laptop', 0.8611619472503662),\n",
       " ('▁tablet', 0.8534693717956543),\n",
       " ('▁celular', 0.8467183709144592),\n",
       " ('▁chip', 0.8394709229469299),\n",
       " ('▁computador', 0.8318821787834167),\n",
       " ('▁smartphone', 0.8209793567657471),\n",
       " ('▁envelope', 0.8171899318695068),\n",
       " ('▁carregador', 0.7928250432014465),\n",
       " ('▁ipad', 0.7898997068405151),\n",
       " ('▁aparelho', 0.7794108390808105)]"
      ]
     },
     "execution_count": 29,
     "metadata": {},
     "output_type": "execute_result"
    }
   ],
   "source": [
    "embedder.wv.most_similar(\"▁notebook\")"
   ]
  },
  {
   "cell_type": "code",
   "execution_count": 37,
   "id": "28358335-81c1-4238-a6de-aa24d94651e6",
   "metadata": {
    "tags": []
   },
   "outputs": [
    {
     "data": {
      "text/plain": [
       "[('▁pedra', 0.8377714157104492),\n",
       " ('▁poça', 0.826803982257843),\n",
       " ('▁cratera', 0.8137418627738953),\n",
       " ('▁lona', 0.8065041303634644),\n",
       " ('▁poeira', 0.7948131561279297),\n",
       " ('▁cabana', 0.788944661617279),\n",
       " ('▁laje', 0.7798771858215332),\n",
       " ('▁montanha', 0.7764739394187927),\n",
       " ('▁escada', 0.7695632576942444),\n",
       " ('▁parede', 0.7683671116828918)]"
      ]
     },
     "execution_count": 37,
     "metadata": {},
     "output_type": "execute_result"
    }
   ],
   "source": [
    "embedder.wv.most_similar(\"▁árvore\")"
   ]
  },
  {
   "cell_type": "code",
   "execution_count": null,
   "id": "a92c1a77-ff46-45fc-b44e-36247db2b8dc",
   "metadata": {},
   "outputs": [],
   "source": []
  }
 ],
 "metadata": {
  "kernelspec": {
   "display_name": "deep-learning",
   "language": "python",
   "name": "deep-learning"
  },
  "language_info": {
   "codemirror_mode": {
    "name": "ipython",
    "version": 3
   },
   "file_extension": ".py",
   "mimetype": "text/x-python",
   "name": "python",
   "nbconvert_exporter": "python",
   "pygments_lexer": "ipython3",
   "version": "3.10.9"
  }
 },
 "nbformat": 4,
 "nbformat_minor": 5
}
