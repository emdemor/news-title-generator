{
 "cells": [
  {
   "cell_type": "code",
   "execution_count": 1,
   "id": "960231ec-94db-4f1a-8125-56a87ddd9435",
   "metadata": {
    "tags": []
   },
   "outputs": [],
   "source": [
    "import sys, os\n",
    "sys.path.append(\"..\")\n",
    "os.chdir(\"..\")\n",
    "# !{sys.executable} -m pip install -r ../requirements.txt"
   ]
  },
  {
   "cell_type": "code",
   "execution_count": 2,
   "id": "e5f6082e-46d5-403b-89a8-38f5dabe2347",
   "metadata": {
    "tags": []
   },
   "outputs": [
    {
     "name": "stderr",
     "output_type": "stream",
     "text": [
      "[nltk_data] Downloading package punkt to datasets/nltk_data...\n",
      "[nltk_data]   Package punkt is already up-to-date!\n"
     ]
    },
    {
     "data": {
      "text/plain": [
       "True"
      ]
     },
     "execution_count": 2,
     "metadata": {},
     "output_type": "execute_result"
    }
   ],
   "source": [
    "import numpy as np\n",
    "import nltk\n",
    "from basix import files\n",
    "import tensorflow as tf\n",
    "from tensorflow import keras\n",
    "\n",
    "from llm import data, models\n",
    "from llm.config import config\n",
    "from llm.tokenize import SentencesTokenizer\n",
    "from llm.embed import CBOWEmbedder\n",
    "\n",
    "nltk.download('punkt', download_dir = \"datasets/nltk_data\")"
   ]
  },
  {
   "cell_type": "code",
   "execution_count": 3,
   "id": "068aac85-74a0-4ce5-b0e8-f4f922d3ba39",
   "metadata": {
    "tags": []
   },
   "outputs": [],
   "source": [
    "text_len = 40\n",
    "title_len = 20\n",
    "latent_dim = 256"
   ]
  },
  {
   "cell_type": "code",
   "execution_count": 21,
   "id": "24d15e30-f30a-4225-97a4-2f8e2b497159",
   "metadata": {
    "tags": []
   },
   "outputs": [
    {
     "name": "stderr",
     "output_type": "stream",
     "text": [
      "2023-03-22 19:58:35.725 | DEBUG    | llm.data:load_corpus:20 - Corpus already exists in datasets/raw/brazilian-news.parquet. Skipping downloading corpus.\n",
      "2023-03-22 19:58:35.727 | DEBUG    | llm.data:load_corpus:25 - Importing news from datasets/raw/brazilian-news.parquet\n",
      "2023-03-22 19:58:37.801 | DEBUG    | llm.data:load_corpus:43 - Using a sample of size 350\n",
      "2023-03-22 19:58:37.828 | DEBUG    | llm.data:load_corpus:48 - Importing news titles from datasets/raw/title.parquet\n",
      "2023-03-22 19:58:37.830 | DEBUG    | llm.data:load_corpus:51 - Importing news texts from datasets/raw/text.parquet\n"
     ]
    }
   ],
   "source": [
    "texts, titles = data.load_corpus(sample=350)\n",
    "\n",
    "# titles_input = [x.replace(CBOWEmbedder.EOS_TOKEN, \"\") for x in titles]\n",
    "# titles_output = [x.replace(CBOWEmbedder.BOS_TOKEN, \"\") for x in titles]"
   ]
  },
  {
   "cell_type": "code",
   "execution_count": 33,
   "id": "e819a66a-9f7c-4392-9765-6db1a2d5882b",
   "metadata": {
    "tags": []
   },
   "outputs": [
    {
     "name": "stdout",
     "output_type": "stream",
     "text": [
      "CPU times: user 2.02 s, sys: 70.7 ms, total: 2.09 s\n",
      "Wall time: 2.09 s\n"
     ]
    }
   ],
   "source": [
    "%%time\n",
    "processer = models.TextProcesser(verbose=1)\n",
    "\n",
    "\n",
    "texts_tokens  = processer.tokenizer.encode(texts)\n",
    "titles_tokens = processer.tokenizer.encode(titles)\n",
    "\n",
    "titles_tokens_input = [[CBOWEmbedder.BOS_TOKEN]+sent_tokens for sent_tokens in titles_tokens]\n",
    "titles_tokens_output = [sent_tokens+[CBOWEmbedder.EOS_TOKEN] for sent_tokens in titles_tokens]\n",
    "\n",
    "# texts_vecs = processer.transform(texts, maxlen=text_len)\n",
    "# titles_vecs = processer.transform(titles, maxlen=title_len)"
   ]
  },
  {
   "cell_type": "code",
   "execution_count": 16,
   "id": "9e069f1a-52e2-4f9a-8b4b-7298b0ba5e14",
   "metadata": {
    "tags": []
   },
   "outputs": [
    {
     "data": {
      "text/plain": [
       "' Degelo pode causar ressurgimento de vírus e bactérias ▁»'"
      ]
     },
     "execution_count": 16,
     "metadata": {},
     "output_type": "execute_result"
    }
   ],
   "source": [
    "titles_output[0]"
   ]
  },
  {
   "cell_type": "code",
   "execution_count": 8,
   "id": "c3229e17-10e3-4d6a-bbde-83d1f317ddea",
   "metadata": {
    "tags": []
   },
   "outputs": [
    {
     "data": {
      "text/plain": [
       "{'~': 154494,\n",
       " 'Ø': 0,\n",
       " '▁«': 10000,\n",
       " '▁»': 10004,\n",
       " '¤': 3,\n",
       " '▁': 22046,\n",
       " '▁entre': 4060,\n",
       " '▁os': 17988,\n",
       " '▁benefícios': 222,\n",
       " '▁fiscais': 217,\n",
       " '▁do': 42381,\n",
       " '▁rio': 1937,\n",
       " '▁de': 109385,\n",
       " '▁janeiro': 904,\n",
       " ',': 141754,\n",
       " '▁cerca': 1124,\n",
       " '▁00,0%': 365,\n",
       " '▁são': 6896,\n",
       " 'cionais': 11,\n",
       " '▁por': 14573,\n",
       " '▁não': 17989,\n",
       " '▁terem': 152,\n",
       " '▁sido': 1101,\n",
       " '▁aprovados': 41,\n",
       " '▁pelo': 5313,\n",
       " '▁con': 69,\n",
       " 'faz': 31,\n",
       " '▁(': 11411,\n",
       " 'órgão': 16,\n",
       " '▁federal': 1839,\n",
       " '▁política': 1401,\n",
       " '),': 3427,\n",
       " '▁segundo': 3941,\n",
       " '▁o': 71921,\n",
       " '▁ministério': 1183,\n",
       " '▁público': 1527,\n",
       " '▁carioca': 144,\n",
       " '.': 98034,\n",
       " '▁a': 79246,\n",
       " '▁porcentagem': 21,\n",
       " '▁se': 12516,\n",
       " '▁refere': 67,\n",
       " '▁às': 2655,\n",
       " '▁isenções': 23,\n",
       " '▁concedidas': 13,\n",
       " '▁em': 35233,\n",
       " '▁0000': 2745,\n",
       " '▁—': 857,\n",
       " 'desde': 34,\n",
       " '▁então': 1017,\n",
       " '▁cenário': 341,\n",
       " '▁teve': 1165,\n",
       " '▁grandes': 601,\n",
       " '▁variações': 31,\n",
       " '▁acordo': 1816,\n",
       " '▁com': 22355,\n",
       " 'ristas': 23,\n",
       " '▁\"': 24866,\n",
       " 'a': 2859,\n",
       " '▁maioria': 589,\n",
       " '▁dos': 11053,\n",
       " '▁no': 23500,\n",
       " '▁país': 2985,\n",
       " '▁têm': 1278,\n",
       " '▁aval': 95,\n",
       " '▁é': 18605,\n",
       " '▁uma': 17334,\n",
       " '▁prática': 338,\n",
       " '▁difundida': 10,\n",
       " '▁só': 2310,\n",
       " '\",': 10686,\n",
       " '▁afirma': 1383,\n",
       " '▁vinicius': 45,\n",
       " '▁jucá': 75,\n",
       " '▁sócio': 126,\n",
       " '▁to': 132,\n",
       " '▁própria': 395,\n",
       " '▁secretaria': 378,\n",
       " '▁da': 36606,\n",
       " '▁fazenda': 329,\n",
       " '▁disse': 4356,\n",
       " '▁nota': 701,\n",
       " 'que': 528,\n",
       " '▁estado': 1662,\n",
       " '▁adota': 35,\n",
       " '▁mesmos': 125,\n",
       " '▁preceitos': 12,\n",
       " '▁das': 7069,\n",
       " '▁demais': 392,\n",
       " '▁unidades': 265,\n",
       " '▁federação': 154,\n",
       " '\".': 4681,\n",
       " '▁pela': 4943,\n",
       " '▁constituição': 317,\n",
       " '▁para': 27788,\n",
       " '▁que': 57045,\n",
       " '▁um': 21674,\n",
       " '▁benefício': 163,\n",
       " '▁fiscal': 440,\n",
       " '▁seja': 1274,\n",
       " '▁aprovado': 157,\n",
       " '▁preciso': 484,\n",
       " '▁unanimidade': 36,\n",
       " '▁estados': 1200,\n",
       " '▁raro': 47,\n",
       " '▁diz': 3614,\n",
       " '▁mau': 80,\n",
       " 'gon': 10,\n",
       " 'esi': 10,\n",
       " '▁júnior': 133,\n",
       " '▁siqueira': 27,\n",
       " '▁castro': 141,\n",
       " '▁na': 20305,\n",
       " '▁muitas': 477,\n",
       " '▁liberadas': 15,\n",
       " '▁mesmo': 2509,\n",
       " '▁votos': 355,\n",
       " '▁contrários': 56,\n",
       " '▁ou': 4582,\n",
       " '▁pelos': 1087,\n",
       " '▁nesses': 105,\n",
       " '▁casos': 604,\n",
       " '▁ocorre': 217,\n",
       " '▁contestação': 17,\n",
       " '▁judicial': 206,\n",
       " '▁e': 54510,\n",
       " '▁anulação': 33,\n",
       " '▁mas': 7374,\n",
       " '▁as': 11932,\n",
       " '▁decisões': 198,\n",
       " '▁supremo': 332,\n",
       " '▁tribunal': 690,\n",
       " '▁exigido': 21,\n",
       " '▁empresa': 1687,\n",
       " '▁valor': 924,\n",
       " 'esse': 96,\n",
       " '▁entendimento': 89,\n",
       " '▁estimula': 28,\n",
       " '▁companhias': 193,\n",
       " '▁sabem': 104,\n",
       " '▁insegurança': 40,\n",
       " '▁jurídica': 105,\n",
       " '▁vale': 368,\n",
       " '▁pena': 295,\n",
       " '▁ta': 76,\n",
       " 'th': 33,\n",
       " '▁pis': 36,\n",
       " 'ci': 55,\n",
       " '▁professora': 107,\n",
       " '▁fgv': 53,\n",
       " '-': 16316,\n",
       " 'sp': 446,\n",
       " '▁recentemente': 194,\n",
       " '▁foi': 8422,\n",
       " '▁câmara': 1037,\n",
       " '▁regime': 253,\n",
       " '▁urgência': 48,\n",
       " '▁projeto': 998,\n",
       " '▁tira': 60,\n",
       " '▁exigência': 62,\n",
       " '▁pauta': 107,\n",
       " '▁havia': 1214,\n",
       " '▁ganhado': 18,\n",
       " '▁força': 496,\n",
       " '▁devido': 400,\n",
       " '▁impasse': 52,\n",
       " '▁vinha': 122,\n",
       " '▁renovação': 78,\n",
       " '▁icms': 40,\n",
       " '▁pois': 421,\n",
       " '▁estava': 1337,\n",
       " '▁judicialmente': 11,\n",
       " '▁impedido': 35,\n",
       " '▁aprovar': 111,\n",
       " '▁imbróglio': 14,\n",
       " '▁porém': 732,\n",
       " '▁resolvido': 32,\n",
       " '▁nesta': 2752,\n",
       " '▁semana': 1361,\n",
       " '▁aprovação': 260,\n",
       " '▁isenção': 60,\n",
       " '▁impostos': 223,\n",
       " '▁como': 10128,\n",
       " '▁funciona': 114,\n",
       " '?': 2781,\n",
       " '▁ter': 2985,\n",
       " '▁todos': 1708,\n",
       " '▁criar': 342,\n",
       " '▁renovar': 39,\n",
       " '▁órgão': 243,\n",
       " '▁ligado': 113,\n",
       " '▁ao': 10078,\n",
       " '▁quê': 79,\n",
       " '▁estaduais': 140,\n",
       " '▁impacto': 321,\n",
       " '▁objetivos': 80,\n",
       " '▁evitar': 395,\n",
       " '▁guerra': 513,\n",
       " '▁qual': 1049,\n",
       " '▁problema': 649,\n",
       " '▁dificilmente': 50,\n",
       " '▁há': 3421,\n",
       " '▁acabam': 56,\n",
       " 'cionalmente': 50,\n",
       " '▁r': 4600,\n",
       " '$': 5890,\n",
       " '▁000': 3714,\n",
       " '▁bilhões': 1245,\n",
       " '▁deixou': 462,\n",
       " '▁recolher': 34,\n",
       " '▁*': 1461,\n",
       " '▁inadimplência': 51,\n",
       " '▁tem': 4572,\n",
       " '▁seis': 626,\n",
       " '▁meses': 1128,\n",
       " '▁queda': 776,\n",
       " '▁primeira': 1355,\n",
       " '▁vez': 1630,\n",
       " '▁desde': 1894,\n",
       " '▁nos': 4296,\n",
       " '▁três': 1872,\n",
       " '▁primeiros': 312,\n",
       " '▁deste': 824,\n",
       " '▁ano': 3962,\n",
       " '▁empresas': 1321,\n",
       " '▁melhorou': 26,\n",
       " '▁0,0%,': 117,\n",
       " '▁comparação': 238,\n",
       " '▁período': 777,\n",
       " '▁0000,': 3648,\n",
       " '▁boa': 619,\n",
       " '▁vista': 409,\n",
       " '▁sc': 25,\n",
       " 'pc': 32,\n",
       " '▁fim': 1148,\n",
       " '▁passado': 1395,\n",
       " '▁índice': 310,\n",
       " '▁caído': 34,\n",
       " '▁trata': 352,\n",
       " 'se': 2429,\n",
       " '▁consecutiva': 26,\n",
       " '▁0000.': 2126,\n",
       " '▁essa': 1754,\n",
       " '▁consequência': 84,\n",
       " '▁restrição': 52,\n",
       " '▁crédito': 357,\n",
       " '▁parte': 1871,\n",
       " '▁bancos': 327,\n",
       " '▁demanda': 227,\n",
       " '▁menor': 498,\n",
       " '▁empréstimos': 147,\n",
       " '▁flávio': 37,\n",
       " 'fe': 34,\n",
       " '▁economista': 121,\n",
       " '▁instituição': 231,\n",
       " 'o': 3034,\n",
       " '▁fato': 671,\n",
       " '▁cair': 134,\n",
       " '▁0,0%': 579,\n",
       " '▁notícia': 273,\n",
       " '▁acontecia': 23,\n",
       " '▁quando': 3367,\n",
       " '▁00%': 1860,\n",
       " '.\"': 2198,\n",
       " '▁crise': 965,\n",
       " '▁afetou': 24,\n",
       " '▁mais': 10943,\n",
       " '▁pessoas': 2588,\n",
       " '▁jurídicas': 26,\n",
       " '▁físicas': 77,\n",
       " '▁consumidor': 191,\n",
       " '▁era': 2566,\n",
       " '▁quase': 955,\n",
       " '▁dobro': 47,\n",
       " '▁empresarial': 61,\n",
       " '▁hoje': 1565,\n",
       " '▁iguais': 52,\n",
       " '▁acumulado': 83,\n",
       " '▁00': 13140,\n",
       " '▁dados': 795,\n",
       " '▁ainda': 3745,\n",
       " '▁negativos': 41,\n",
       " '▁acerto': 38,\n",
       " '▁contas': 669,\n",
       " '▁-': 3922,\n",
       " '▁evolução': 102,\n",
       " '▁ruim': 169,\n",
       " '▁melhor': 1092,\n",
       " '▁amanhã': 129,\n",
       " '▁percepção': 77,\n",
       " '▁construção': 385,\n",
       " '▁sobre': 4359,\n",
       " '▁desempenho': 268,\n",
       " '▁próprio': 499,\n",
       " '▁negócio': 239,\n",
       " '▁caiu': 319,\n",
       " '▁fevereiro': 415,\n",
       " '▁novembro': 329,\n",
       " '▁sin': 34,\n",
       " 'con': 68,\n",
       " 'sindicato': 36,\n",
       " '▁setor': 874,\n",
       " ').': 2307,\n",
       " 'as': 413,\n",
       " '▁obras': 577,\n",
       " '▁chegaram': 160,\n",
       " '▁estão': 1915,\n",
       " '▁sendo': 902,\n",
       " '▁curto': 153,\n",
       " '▁prazo': 563,\n",
       " '▁piora': 54,\n",
       " '▁deverá': 225,\n",
       " '▁continuar': 245,\n",
       " '▁presidente': 3506,\n",
       " '▁josé': 671,\n",
       " '▁romeu': 10,\n",
       " '▁ferraz': 35,\n",
       " '▁neto': 131,\n",
       " '▁apesar': 729,\n",
       " '▁pessimismo': 14,\n",
       " '▁relação': 1096,\n",
       " '▁futuro': 411,\n",
       " '▁diminuiu': 47,\n",
       " '▁projeções': 76,\n",
       " '▁avaliação': 303,\n",
       " '▁econômica': 541,\n",
       " '▁subiram': 73,\n",
       " '▁0,0%.': 162,\n",
       " '▁juros': 521,\n",
       " '▁expectativa': 281,\n",
       " '▁torno': 203,\n",
       " '▁reformas': 202,\n",
       " '▁explicam': 14,\n",
       " '▁ganho': 75,\n",
       " '▁otimismo': 50,\n",
       " '▁à': 7204,\n",
       " '▁espera': 310,\n",
       " '▁obra': 524,\n",
       " '▁indicador': 50,\n",
       " '▁indústria': 384,\n",
       " '▁civil': 534,\n",
       " '▁0': 4122,\n",
       " ')': 5189,\n",
       " 'melhor': 16,\n",
       " '▁ganhos': 73,\n",
       " '▁executivos': 184,\n",
       " '▁passaram': 197,\n",
       " '▁aceitar': 119,\n",
       " '▁ideia': 638,\n",
       " '▁receber': 382,\n",
       " '▁parcela': 102,\n",
       " '▁remuneração': 59,\n",
       " '▁bônus': 24,\n",
       " '▁opções': 159,\n",
       " '▁ações': 722,\n",
       " '▁aponta': 180,\n",
       " '▁consultoria': 157,\n",
       " '▁(00%)': 55,\n",
       " '▁aceitaria': 14,\n",
       " '▁trocar': 61,\n",
       " '▁vaga': 168,\n",
       " '▁posto': 147,\n",
       " '▁salário': 200,\n",
       " '▁total': 555,\n",
       " '▁maior': 1901,\n",
       " '▁variável': 11,\n",
       " '▁ganha': 171,\n",
       " '▁importância': 162,\n",
       " '▁porque': 1839,\n",
       " '▁outro': 1364,\n",
       " '▁atrativo': 18,\n",
       " '▁perspectiva': 134,\n",
       " '▁crescimento': 587,\n",
       " '▁carreira': 329,\n",
       " '▁tornou': 267,\n",
       " '▁difícil': 478,\n",
       " '▁fernando': 530,\n",
       " '▁diretor': 755,\n",
       " 'executivo': 135,\n",
       " 'quando': 180,\n",
       " '▁executivo': 292,\n",
       " '▁sente': 81,\n",
       " '▁avança': 49,\n",
       " '▁passa': 382,\n",
       " '▁valorizar': 21,\n",
       " '▁pagamento': 475,\n",
       " '▁global': 233,\n",
       " '▁querem': 266,\n",
       " '▁tipos': 90,\n",
       " '▁%': 76,\n",
       " '▁sobe': 86,\n",
       " '▁nem': 1088,\n",
       " '▁desce': 15,\n",
       " '▁fabricantes': 58,\n",
       " '▁retomada': 155,\n",
       " '▁mercado': 1213,\n",
       " '▁brasileiro': 1065,\n",
       " '▁entidades': 138,\n",
       " 'no': 286,\n",
       " '▁houve': 672,\n",
       " '▁aquecimento': 38,\n",
       " '▁início': 884,\n",
       " '▁voltou': 275,\n",
       " '▁paralisar': 11,\n",
       " '▁cardoso': 134,\n",
       " 'p': 209,\n",
       " '▁segmento': 104,\n",
       " 'ta': 151,\n",
       " '▁médio': 316,\n",
       " '▁porte': 97,\n",
       " '▁comanda': 52,\n",
       " '▁planeja': 84,\n",
       " '▁investir': 120,\n",
       " '▁milhões': 2210,\n",
       " '▁neste': 1365,\n",
       " '▁abrir': 268,\n",
       " '▁novos': 547,\n",
       " '▁escritórios': 53,\n",
       " '▁fazer': 2028,\n",
       " '▁treinamento': 101,\n",
       " '▁equipe': 807,\n",
       " 'em': 514,\n",
       " '▁aumenta': 73,\n",
       " 'mos': 807,\n",
       " '▁vendas': 352,\n",
       " '▁fora': 847,\n",
       " '▁sudeste': 81,\n",
       " '▁áreas': 437,\n",
       " '▁acre': 31,\n",
       " '▁roraima': 33,\n",
       " '▁brasília': 437,\n",
       " '▁realmente': 190,\n",
       " '▁dá': 568,\n",
       " '▁lucro': 125,\n",
       " '▁manutenção': 190,\n",
       " '▁isso': 3304,\n",
       " '▁estar': 583,\n",
       " '▁presente': 229,\n",
       " '▁ele': 5828,\n",
       " '▁caso': 1818,\n",
       " '▁atores': 155,\n",
       " '▁previsão': 251,\n",
       " '▁também': 4840,\n",
       " '▁estabilidade': 82,\n",
       " '▁leve': 113,\n",
       " '▁avalia': 145,\n",
       " '▁fabio': 29,\n",
       " '▁vice': 556,\n",
       " 'presidente': 943,\n",
       " '▁nas': 2749,\n",
       " '▁américas': 36,\n",
       " '▁investimentos': 363,\n",
       " '▁companhia': 623,\n",
       " '▁deverão': 92,\n",
       " '▁manter': 449,\n",
       " '▁patamar': 102,\n",
       " '▁receita': 511,\n",
       " '▁anual': 141,\n",
       " '▁estimada': 24,\n",
       " '▁brasil': 3524,\n",
       " '▁hora': 580,\n",
       " '▁café': 247,\n",
       " '▁felipe': 159,\n",
       " '▁gutierrez': 60,\n",
       " '▁taís': 28,\n",
       " '▁hirata': 32,\n",
       " '▁igor': 23,\n",
       " '▁u': 68,\n",
       " '▁petroleira': 24,\n",
       " '▁mexicana': 31,\n",
       " 'ex': 52,\n",
       " '▁registrou': 126,\n",
       " '▁sua': 4930,\n",
       " '▁produção': 712,\n",
       " '▁diária': 39,\n",
       " '▁óleo': 60,\n",
       " '▁bruto': 56,\n",
       " '▁mil': 1730,\n",
       " '▁barris': 15,\n",
       " '▁explosão': 74,\n",
       " '▁enorme': 147,\n",
       " '▁complexo': 145,\n",
       " '▁quarta': 1209,\n",
       " 'feira': 2793,\n",
       " '▁(0),': 516,\n",
       " '▁anunciou': 304,\n",
       " '▁domingo': 966,\n",
       " '▁(0)': 558,\n",
       " '▁acidente': 240,\n",
       " '▁morreram': 138,\n",
       " '▁quatro': 1111,\n",
       " '▁trabalhadores': 338,\n",
       " '▁outros': 1773,\n",
       " '▁desaparecidos': 28,\n",
       " '▁média': 512,\n",
       " '▁dessa': 470,\n",
       " '▁região': 1030,\n",
       " '▁número': 844,\n",
       " '▁exploração': 69,\n",
       " '▁estatal': 281,\n",
       " '▁mexicanos': 20,\n",
       " '▁gustavo': 77,\n",
       " '▁rodríguez': 17,\n",
       " 'por': 191,\n",
       " '▁causa': 581,\n",
       " '▁estrutura': 207,\n",
       " '▁principal': 620,\n",
       " '▁ab': 78,\n",
       " 'ka': 44,\n",
       " '▁poços': 23,\n",
       " '▁foram': 2681,\n",
       " '▁fechados': 51,\n",
       " '▁automaticamente': 28,\n",
       " '▁explicou': 139,\n",
       " 'conferência': 15,\n",
       " '▁imprensa': 433,\n",
       " '▁estrangeira': 35,\n",
       " '▁afirmou': 2015,\n",
       " '▁sabe': 420,\n",
       " '▁causas': 87,\n",
       " '▁restabelecer': 23,\n",
       " '▁implica': 27,\n",
       " '▁alto': 404,\n",
       " '▁grau': 120,\n",
       " '▁dificuldade': 195,\n",
       " '▁dado': 210,\n",
       " '▁conectados': 26,\n",
       " '▁reconheceu': 69,\n",
       " '▁diários': 39,\n",
       " '▁cumprindo': 27,\n",
       " '▁meta': 286,\n",
       " '▁colocou': 95,\n",
       " '▁operação': 832,\n",
       " '▁sábado': 623,\n",
       " '▁plataformas': 41,\n",
       " '▁d': 224,\n",
       " 'ción': 14,\n",
       " '▁incorpo': 11,\n",
       " 'rem': 265,\n",
       " '▁campos': 203,\n",
       " '▁afetados': 53,\n",
       " 'ix': 11,\n",
       " 'tal': 29,\n",
       " '▁on': 210,\n",
       " 'el': 95,\n",
       " 'ará': 129,\n",
       " '▁interesse': 294,\n",
       " '▁petrol': 46,\n",
       " 'eiras': 34,\n",
       " '▁garantiu': 50,\n",
       " '▁recebeu': 416,\n",
       " '▁apoio': 529,\n",
       " 'uma': 271,\n",
       " '▁grande': 1572,\n",
       " '▁quantidade': 198,\n",
       " '▁operadores': 50,\n",
       " '▁petroleiros': 10,\n",
       " '▁informou': 510,\n",
       " '▁afp': 41,\n",
       " '▁agência': 383,\n",
       " '▁segurança': 865,\n",
       " '▁industrial': 153,\n",
       " '▁proteção': 179,\n",
       " '▁meio': 1318,\n",
       " '▁ambiente': 252,\n",
       " '▁investigação': 520,\n",
       " '▁até': 3758,\n",
       " '▁agora': 1605,\n",
       " '▁indícios': 125,\n",
       " '▁atentado': 124,\n",
       " '▁crime': 450,\n",
       " '▁organizado': 76,\n",
       " '▁advogada': 48,\n",
       " '▁luisa': 24,\n",
       " '▁ortega': 31,\n",
       " '▁destituição': 14,\n",
       " '▁procuradora': 31,\n",
       " 'geral': 482,\n",
       " '▁venezuela': 225,\n",
       " '▁assembleia': 193,\n",
       " '▁constituinte': 82,\n",
       " '▁ela': 2518,\n",
       " 'poder': 25,\n",
       " '\"': 6111,\n",
       " '▁governa': 15,\n",
       " 'eu': 473,\n",
       " 'ço': 83,\n",
       " '▁remoção': 26,\n",
       " '▁continuo': 15,\n",
       " '▁dia': 2458,\n",
       " '▁após': 2321,\n",
       " '▁ser': 5254,\n",
       " '▁nicolás': 40,\n",
       " '▁maduro': 140,\n",
       " '▁quem': 1593,\n",
       " '▁rompeu': 22,\n",
       " '▁anos': 4676,\n",
       " '▁orientação': 85,\n",
       " '▁governista': 37,\n",
       " '▁ex': 2054,\n",
       " '▁insistiu': 22,\n",
       " '▁esta': 550,\n",
       " '▁iniciou': 84,\n",
       " '▁trabalhos': 166,\n",
       " '▁tirando': 27,\n",
       " '▁cargo': 418,\n",
       " 'ile': 15,\n",
       " '▁incons': 29,\n",
       " 'titucional': 18,\n",
       " 'estamos': 97,\n",
       " '▁diante': 476,\n",
       " '▁poder': 847,\n",
       " '▁aqui': 808,\n",
       " '▁governo': 4099,\n",
       " '▁ocupa': 79,\n",
       " '▁ilegalmente': 23,\n",
       " '▁nacional': 1307,\n",
       " '▁presidencial': 206,\n",
       " '▁destacou': 66,\n",
       " '▁declara': 25,\n",
       " '▁cha': 119,\n",
       " 'vista': 26,\n",
       " '▁decisão': 1111,\n",
       " 'í': 24,\n",
       " 'la': 405,\n",
       " '▁repúdio': 17,\n",
       " '▁internacional': 590,\n",
       " 'ordem': 16,\n",
       " '▁está': 3863,\n",
       " '▁fazendo': 331,\n",
       " '▁perseguir': 15,\n",
       " ';': 1507,\n",
       " '▁convocada': 21,\n",
       " '▁eleição': 492,\n",
       " '▁participação': 615,\n",
       " '▁muito': 2761,\n",
       " '▁pequena': 154,\n",
       " '▁poucas': 143,\n",
       " '▁compareceram': 26,\n",
       " '▁fizeram': 281,\n",
       " '▁obrigadas': 11,\n",
       " '▁acrescentou': 138,\n",
       " '▁denúncias': 112,\n",
       " '▁instituições': 276,\n",
       " '▁públicas': 318,\n",
       " '▁seus': 2065,\n",
       " '▁funcionários': 454,\n",
       " '▁votar': 160,\n",
       " '▁integrantes': 202,\n",
       " '▁instalada': 38,\n",
       " '▁sexta': 996,\n",
       " '▁forte': 493,\n",
       " '▁eleitos': 39,\n",
       " '▁oito': 370,\n",
       " '▁eleitoral': 382,\n",
       " '▁oposição': 420,\n",
       " '▁reconhece': 69,\n",
       " '▁denuncia': 28,\n",
       " '▁fraude': 88,\n",
       " '▁instaurar': 18,\n",
       " '▁comunista': 50,\n",
       " '▁itamaraty': 45,\n",
       " '▁condenou': 42,\n",
       " '▁classificou': 81,\n",
       " '▁medida': 590,\n",
       " 'tr': 15,\n",
       " 'ária': 20,\n",
       " '▁ilegal': 104,\n",
       " '▁compromete': 34,\n",
       " '▁independência': 84,\n",
       " '▁preservação': 44,\n",
       " '▁garantias': 51,\n",
       " '▁liberdades': 22,\n",
       " '▁fundamentais': 49,\n",
       " '▁instauração': 17,\n",
       " '▁exceção': 112,\n",
       " '▁relações': 277,\n",
       " '▁exteriores': 70,\n",
       " '▁ministro': 1242,\n",
       " '▁aloysio': 28,\n",
       " '▁nunes': 77,\n",
       " '▁já': 4499,\n",
       " '▁criticado': 39,\n",
       " '▁durante': 1348,\n",
       " '▁coletiva': 140,\n",
       " '▁anunciar': 91,\n",
       " '▁suspensão': 161,\n",
       " '▁mercosul': 64,\n",
       " '▁nascimento': 90,\n",
       " '▁novo': 1287,\n",
       " '▁pacto': 55,\n",
       " '▁social': 554,\n",
       " '▁revi': 15,\n",
       " 'rando': 60,\n",
       " '▁interior': 206,\n",
       " '▁diversos': 226,\n",
       " '▁grupos': 377,\n",
       " '▁luta': 217,\n",
       " '▁privilégios': 20,\n",
       " '▁implementação': 53,\n",
       " '▁ética': 124,\n",
       " '▁será': 1814,\n",
       " '▁dura': 79,\n",
       " ':': 6363,\n",
       " '▁primeiro': 1543,\n",
       " '▁passo': 165,\n",
       " '▁mudar': 303,\n",
       " '▁realidade': 276,\n",
       " '▁pode': 2561,\n",
       " '▁pec': 103,\n",
       " '▁limita': 41,\n",
       " '▁gastos': 443,\n",
       " '▁senado': 521,\n",
       " '▁passar': 394,\n",
       " '▁000.': 162,\n",
       " '▁coisa': 618,\n",
       " 'e': 661,\n",
       " '▁poucos': 314,\n",
       " '▁lugares': 190,\n",
       " '▁mundo': 1822,\n",
       " '—': 205,\n",
       " '▁portuguesa': 77,\n",
       " '▁século': 280,\n",
       " '▁00.': 718,\n",
       " '▁origem': 186,\n",
       " '▁este': 570,\n",
       " '▁chave': 77,\n",
       " '▁sucesso': 379,\n",
       " '▁amigo': 234,\n",
       " '▁rei': 113,\n",
       " '▁menos': 1821,\n",
       " '▁característica': 45,\n",
       " '▁bem': 1410,\n",
       " '▁escritores': 60,\n",
       " '▁tanto': 571,\n",
       " '▁literatura': 147,\n",
       " '▁quanto': 930,\n",
       " '▁análise': 287,\n",
       " '▁sargento': 26,\n",
       " '▁milícias': 15,\n",
       " '▁(0000),': 198,\n",
       " '▁manuel': 50,\n",
       " '▁antônio': 124,\n",
       " '▁almeida': 81,\n",
       " 'funcionário': 11,\n",
       " '▁protagonista': 100,\n",
       " '▁leonardo': 58,\n",
       " '▁cadeia': 112,\n",
       " '▁sergio': 214,\n",
       " '▁buarque': 40,\n",
       " '▁holanda': 62,\n",
       " '▁relata': 50,\n",
       " '▁colônia': 18,\n",
       " '▁estrangeiros': 200,\n",
       " '▁vinham': 32,\n",
       " '▁negócios': 337,\n",
       " 'diam': 16,\n",
       " '▁impossibilidade': 17,\n",
       " '▁empreender': 19,\n",
       " '▁sem': 2746,\n",
       " '▁contatos': 32,\n",
       " 'cor': 21,\n",
       " '▁gente': 929,\n",
       " '▁pense': 17,\n",
       " '▁você': 1545,\n",
       " '▁critica': 81,\n",
       " '▁apenas': 1724,\n",
       " '▁distante': 82,\n",
       " '▁exemplos': 88,\n",
       " '▁atuais': 142,\n",
       " '▁pequenos': 149,\n",
       " '▁inúmeros': 40,\n",
       " '▁cargos': 161,\n",
       " '▁confiança': 233,\n",
       " '▁muda': 85,\n",
       " '▁sai': 158,\n",
       " '▁batalhão': 37,\n",
       " '▁amigos': 331,\n",
       " 'chefe': 106,\n",
       " '▁entra': 135,\n",
       " '▁formado': 104,\n",
       " '▁atual': 668,\n",
       " '▁dirigente': 79,\n",
       " '▁virou': 157,\n",
       " 'um': 329,\n",
       " '▁pouco': 934,\n",
       " '▁montanha': 36,\n",
       " '▁dentro': 683,\n",
       " '▁lei': 858,\n",
       " '▁funcionário': 137,\n",
       " '▁seu': 4200,\n",
       " '▁legítimo': 31,\n",
       " '▁direito': 694,\n",
       " '▁greve': 111,\n",
       " '▁categoria': 166,\n",
       " '▁restante': 86,\n",
       " '▁sociedade': 524,\n",
       " '▁vezes': 877,\n",
       " '▁fica': 601,\n",
       " '▁posição': 364,\n",
       " '▁refém': 23,\n",
       " '▁obviamente': 49,\n",
       " '▁nada': 759,\n",
       " '▁justifica': 50,\n",
       " '▁processar': 26,\n",
       " '▁político': 572,\n",
       " '▁parto': 16,\n",
       " 'gas': 45,\n",
       " '▁stf': 504,\n",
       " '▁significam': 10,\n",
       " '▁impunidade': 24,\n",
       " '▁facto': 11,\n",
       " '▁salários': 184,\n",
       " '▁aposentadorias': 36,\n",
       " '▁servidores': 181,\n",
       " '▁públicos': 424,\n",
       " '▁ape': 14,\n",
       " 'ti': 113,\n",
       " '▁privado': 157,\n",
       " '▁competência': 54,\n",
       " '▁falta': 561,\n",
       " '▁dela': 286,\n",
       " '▁afeta': 96,\n",
       " '▁rendimentos': 61,\n",
       " '▁tudo': 1118,\n",
       " '▁chance': 221,\n",
       " '▁desemprego': 150,\n",
       " '▁praticamente': 180,\n",
       " '▁zero': 114,\n",
       " '▁chama': 142,\n",
       " '▁economia': 904,\n",
       " '▁grátis': 131,\n",
       " '\":': 75,\n",
       " '▁risco': 599,\n",
       " '▁baixo': 242,\n",
       " '▁retorno': 166,\n",
       " '▁pergunta': 144,\n",
       " '▁esse': 1737,\n",
       " '▁tratamento': 237,\n",
       " '▁diferenciado': 14,\n",
       " '▁grupo': 1406,\n",
       " '▁específico': 68,\n",
       " '▁outras': 1108,\n",
       " '▁questões': 240,\n",
       " '▁assim': 1229,\n",
       " '▁aberto': 244,\n",
       " '▁tomar': 258,\n",
       " '▁empréstimo': 100,\n",
       " '▁juro': 44,\n",
       " '▁enquanto': 961,\n",
       " '▁resto': 117,\n",
       " '▁população': 548,\n",
       " '▁paga': 169,\n",
       " '▁real': 430,\n",
       " '▁0%': 436,\n",
       " '▁apos': 15,\n",
       " 'ente': 42,\n",
       " '▁aos': 2477,\n",
       " '▁vida': 1202,\n",
       " '▁crescer': 144,\n",
       " '▁alguns': 1027,\n",
       " '▁profissionais': 234,\n",
       " '▁podem': 1015,\n",
       " '▁referen': 11,\n",
       " 'dados': 22,\n",
       " '▁aposentar': 42,\n",
       " '▁cedo': 178,\n",
       " '▁trabalhador': 76,\n",
       " '▁autônomo': 18,\n",
       " '▁imposto': 202,\n",
       " '▁contratado': 74,\n",
       " 'he': 66,\n",
       " '▁mes': 34,\n",
       " 'm': 259,\n",
       " 'íssima': 38,\n",
       " '▁função': 223,\n",
       " '▁confunde': 14,\n",
       " 'versa': 17,\n",
       " '▁bons': 140,\n",
       " '▁valem': 19,\n",
       " '▁capacidade': 371,\n",
       " '▁pessoal': 336,\n",
       " 'cos': 50,\n",
       " '▁pib': 376,\n",
       " '▁injusta': 12,\n",
       " '▁construir': 145,\n",
       " '▁enfrentando': 25,\n",
       " '▁organização': 393,\n",
       " '▁interesses': 153,\n",
       " '▁segmentos': 40,\n",
       " '▁determinados': 29,\n",
       " '▁acúmulo': 20,\n",
       " '▁injusto': 20,\n",
       " '▁significativa': 60,\n",
       " '▁renda': 415,\n",
       " '▁desenho': 73,\n",
       " '▁orçamento': 273,\n",
       " '▁união': 594,\n",
       " '▁inegável': 14,\n",
       " '▁corrupção': 617,\n",
       " '▁toma': 62,\n",
       " '▁conta': 1197,\n",
       " '▁manchetes': 24,\n",
       " '▁jornais': 113,\n",
       " '▁modelo': 386,\n",
       " '▁adotado': 44,\n",
       " 'tudo': 68,\n",
       " '▁cabe': 139,\n",
       " '▁antes': 1599,\n",
       " '▁dívida': 363,\n",
       " '▁impressão': 82,\n",
       " '▁dinheiro': 1006,\n",
       " '▁dois': 2487,\n",
       " '▁terceiro': 352,\n",
       " '▁inflação': 405,\n",
       " '▁alta': 667,\n",
       " '▁ninguém': 462,\n",
       " '▁quer': 658,\n",
       " '▁forçar': 31,\n",
       " 'á': 388,\n",
       " '▁juízes': 103,\n",
       " '▁brasileiros': 646,\n",
       " '▁recebem': 68,\n",
       " '▁altos': 121,\n",
       " '▁admitir': 42,\n",
       " '▁quiserem': 35,\n",
       " '▁ganhar': 248,\n",
       " '▁fal': 30,\n",
       " 'tará': 29,\n",
       " '▁saúde': 925,\n",
       " '▁educação': 541,\n",
       " '▁transporte': 217,\n",
       " '▁mobilidade': 70,\n",
       " '▁infraestrutura': 164,\n",
       " '▁etc': 110,\n",
       " '▁regras': 331,\n",
       " '▁previstas': 44,\n",
       " '▁exemplo': 900,\n",
       " '▁acima': 330,\n",
       " '▁tendem': 53,\n",
       " '▁escanca': 25,\n",
       " 'rar': 98,\n",
       " '▁pressão': 244,\n",
       " '▁claro': 505,\n",
       " '▁basta': 280,\n",
       " '▁transformar': 101,\n",
       " '▁num': 668,\n",
       " '▁trazida': 10,\n",
       " '▁ir': 461,\n",
       " 'responsabilidade': 18,\n",
       " '▁começar': 212,\n",
       " '▁nossa': 508,\n",
       " '▁oportunidade': 202,\n",
       " '▁temos': 498,\n",
       " '▁mãos': 190,\n",
       " '▁rever': 64,\n",
       " '▁certeza': 164,\n",
       " '▁reforçada': 24,\n",
       " '▁longo': 520,\n",
       " '▁séculos': 30,\n",
       " '▁poderoso': 40,\n",
       " '▁esforço': 146,\n",
       " '▁(00),': 1291,\n",
       " 'h': 3083,\n",
       " '00,': 228,\n",
       " 'vemos': 27,\n",
       " '▁debate': 412,\n",
       " '?\".': 84,\n",
       " 'dores': 48,\n",
       " '▁lúcia': 53,\n",
       " '▁senadora': 48,\n",
       " '▁goiás': 56,\n",
       " '▁marcos': 146,\n",
       " '▁mendes': 192,\n",
       " '▁chefe': 250,\n",
       " '▁assessoria': 211,\n",
       " '▁especial': 370,\n",
       " '▁oscar': 185,\n",
       " '▁colunista': 105,\n",
       " '▁folha': 1527,\n",
       " '▁professor': 375,\n",
       " '▁constitucional': 139,\n",
       " '▁fundador': 85,\n",
       " '▁conec': 13,\n",
       " 'tas': 91,\n",
       " '▁direitos': 516,\n",
       " '▁humanos': 300,\n",
       " '▁mediação': 28,\n",
       " '▁carlos': 459,\n",
       " '▁eduardo': 633,\n",
       " '▁gonçalves': 60,\n",
       " '▁dudu': 41,\n",
       " 'com': 1048,\n",
       " 'br': 703,\n",
       " '▁entrada': 302,\n",
       " '▁franca': 33,\n",
       " '▁vagas': 186,\n",
       " '▁limitadas': 15,\n",
       " 'va': 224,\n",
       " '▁acessar': 134,\n",
       " ...}"
      ]
     },
     "execution_count": 8,
     "metadata": {},
     "output_type": "execute_result"
    }
   ],
   "source": [
    "processer.embedder.vocab_freq"
   ]
  },
  {
   "cell_type": "code",
   "execution_count": 10,
   "id": "e9894c6c-c401-4e28-9ec0-bffd6367c4cf",
   "metadata": {
    "tags": []
   },
   "outputs": [],
   "source": [
    "emb_dim = 50"
   ]
  },
  {
   "cell_type": "code",
   "execution_count": 11,
   "id": "1c5bd596-76dc-4d24-92ed-0e64b35ba86c",
   "metadata": {},
   "outputs": [
    {
     "data": {
      "text/plain": [
       "(350, 20, 50)"
      ]
     },
     "execution_count": 11,
     "metadata": {},
     "output_type": "execute_result"
    }
   ],
   "source": [
    "titles_vecs.shape"
   ]
  },
  {
   "cell_type": "code",
   "execution_count": null,
   "id": "00170905-89f3-45be-90dc-6dbccd98b1e3",
   "metadata": {},
   "outputs": [],
   "source": []
  },
  {
   "cell_type": "code",
   "execution_count": 30,
   "id": "48308c6b-4213-43b3-8d11-e9f42fd684a3",
   "metadata": {
    "tags": []
   },
   "outputs": [],
   "source": [
    "encoder_inputs = keras.Input(shape=(None, emb_dim))\n",
    "\n",
    "encoder = keras.layers.LSTM(latent_dim, return_state=True)\n",
    "\n",
    "encoder_outputs, state_h, state_c = encoder(encoder_inputs)\n",
    "\n",
    "# We discard `encoder_outputs` and only keep the states.\n",
    "encoder_states = [state_h, state_c]\n",
    "\n",
    "\n",
    "# Set up the decoder, using `encoder_states` as initial state.\n",
    "decoder_inputs = keras.Input(shape=(None, emb_dim))\n",
    "\n",
    "# We set up our decoder to return full output sequences,\n",
    "# and to return internal states as well. We don't use the\n",
    "# return states in the training model, but we will use them in inference.\n",
    "decoder_lstm = keras.layers.LSTM(latent_dim, return_sequences=True, return_state=True)\n",
    "decoder_outputs, _, _ = decoder_lstm(decoder_inputs, initial_state=encoder_states)\n",
    "decoder_dense = keras.layers.Dense(emb_dim)\n",
    "decoder_outputs = decoder_dense(decoder_outputs)\n",
    "\n",
    "# Define the model that will turn\n",
    "# `encoder_input_data` & `decoder_input_data` into `decoder_target_data`\n",
    "model = keras.Model([encoder_inputs, decoder_inputs], decoder_outputs)"
   ]
  },
  {
   "cell_type": "code",
   "execution_count": null,
   "id": "8d960e26-a706-412f-a3a5-28064a30369a",
   "metadata": {},
   "outputs": [],
   "source": []
  },
  {
   "cell_type": "code",
   "execution_count": null,
   "id": "3c8f932e-fdaa-442e-9871-9a77b19e7a44",
   "metadata": {},
   "outputs": [],
   "source": [
    "model.compile(loss='mse', optimizer='adam',  metrics=['mse', 'mae', 'r2'])\n",
    "\n",
    "\n",
    "model.fit(\n",
    "    [ metrics=['mse', 'mae', 'r2']), decoder_input_data],\n",
    "    decoder_target_data,\n",
    "    batch_size=batch_size,\n",
    "    epochs=epochs,\n",
    "    validation_split=0.2,\n",
    ")"
   ]
  },
  {
   "cell_type": "code",
   "execution_count": null,
   "id": "dbe7d0d1-0104-4e79-9a27-3a0a5e76e1b6",
   "metadata": {},
   "outputs": [],
   "source": []
  },
  {
   "cell_type": "code",
   "execution_count": null,
   "id": "9634e655-5657-41e3-8ed4-58df91fcc1d7",
   "metadata": {},
   "outputs": [],
   "source": []
  },
  {
   "cell_type": "code",
   "execution_count": null,
   "id": "0bec00c7-6053-4a11-a074-107e1b18f2f2",
   "metadata": {},
   "outputs": [],
   "source": []
  },
  {
   "cell_type": "code",
   "execution_count": null,
   "id": "2de0dfca-9e63-41e9-887b-52c8114e1114",
   "metadata": {},
   "outputs": [],
   "source": []
  },
  {
   "cell_type": "code",
   "execution_count": 5,
   "id": "cc04c8ab-1ea7-4b09-9671-2aabf5dd7e17",
   "metadata": {
    "tags": []
   },
   "outputs": [
    {
     "data": {
      "text/plain": [
       "tensorflow.python.data.ops.from_tensor_slices_op.TensorSliceDataset"
      ]
     },
     "execution_count": 5,
     "metadata": {},
     "output_type": "execute_result"
    }
   ],
   "source": [
    "import tensorflow as tf\n",
    "slices = tf.data.Dataset.from_tensor_slices(texts_vecs)\n",
    "type(slices)"
   ]
  },
  {
   "cell_type": "code",
   "execution_count": null,
   "id": "ce3a9470-60ef-4738-8589-b190ae51b47a",
   "metadata": {},
   "outputs": [],
   "source": []
  },
  {
   "cell_type": "code",
   "execution_count": null,
   "id": "dd42ec53-0f26-4082-8061-df00801a62fe",
   "metadata": {},
   "outputs": [],
   "source": []
  },
  {
   "cell_type": "code",
   "execution_count": null,
   "id": "06c27c48-de69-467c-8e45-c43be912a57a",
   "metadata": {},
   "outputs": [],
   "source": []
  },
  {
   "cell_type": "code",
   "execution_count": 10,
   "id": "80674b7a-9222-45b1-a7d0-8c454eeef8fe",
   "metadata": {
    "tags": []
   },
   "outputs": [
    {
     "data": {
      "text/plain": [
       "array([[-2.8422527 ,  1.5201029 ,  3.6546187 , ..., -2.1878119 ,\n",
       "         1.2598858 ,  3.8599381 ],\n",
       "       [ 0.15048188, -2.5627968 , -5.4844007 , ...,  3.2361865 ,\n",
       "         4.6852965 ,  2.4972484 ],\n",
       "       [ 0.3609909 , -0.23715064,  3.7527487 , ...,  3.8275928 ,\n",
       "        -4.6390014 , -0.80124545],\n",
       "       ...,\n",
       "       [ 0.        ,  0.        ,  0.        , ...,  0.        ,\n",
       "         0.        ,  0.        ],\n",
       "       [ 0.        ,  0.        ,  0.        , ...,  0.        ,\n",
       "         0.        ,  0.        ],\n",
       "       [ 0.        ,  0.        ,  0.        , ...,  0.        ,\n",
       "         0.        ,  0.        ]], dtype=float32)"
      ]
     },
     "execution_count": 10,
     "metadata": {},
     "output_type": "execute_result"
    }
   ],
   "source": [
    "texts_vecs[0]"
   ]
  },
  {
   "cell_type": "code",
   "execution_count": 9,
   "id": "a5f1144d-8e14-4a3b-99c8-62ec4b325a90",
   "metadata": {
    "tags": []
   },
   "outputs": [
    {
     "data": {
      "text/plain": [
       "(2000, 28, 50)"
      ]
     },
     "execution_count": 9,
     "metadata": {},
     "output_type": "execute_result"
    }
   ],
   "source": [
    "titles_vecs.shape"
   ]
  },
  {
   "cell_type": "code",
   "execution_count": null,
   "id": "4c79370a-4792-40f5-971e-debdc3f3e241",
   "metadata": {},
   "outputs": [],
   "source": [
    "pad_sequences(texts_vecs, padding='post', dtype='float32', )"
   ]
  },
  {
   "cell_type": "code",
   "execution_count": 14,
   "id": "571fcffc-536d-4ca5-999f-efeefa9eb3dd",
   "metadata": {
    "tags": []
   },
   "outputs": [],
   "source": [
    "import tensorflow as tf\n",
    "from tensorflow.keras.preprocessing.sequence import pad_sequences\n",
    "import numpy as np\n",
    "\n",
    "\n",
    "def padding(vec_lists):\n",
    "    return  pad_sequences(vec_lists, padding='post', dtype='float32')"
   ]
  },
  {
   "cell_type": "code",
   "execution_count": 16,
   "id": "60dad8c8-52d3-49ec-84c9-934b403dcab5",
   "metadata": {
    "tags": []
   },
   "outputs": [],
   "source": [
    "padded = padding(texts_vecs)"
   ]
  },
  {
   "cell_type": "code",
   "execution_count": 17,
   "id": "68d0afbc-5e02-48ef-8797-0d2af4778e27",
   "metadata": {
    "tags": []
   },
   "outputs": [
    {
     "data": {
      "text/plain": [
       "numpy.ndarray"
      ]
     },
     "execution_count": 17,
     "metadata": {},
     "output_type": "execute_result"
    }
   ],
   "source": [
    "type(padded)"
   ]
  },
  {
   "cell_type": "code",
   "execution_count": 13,
   "id": "d5d185a0-d189-4496-80dc-52ec4c518216",
   "metadata": {
    "tags": []
   },
   "outputs": [
    {
     "data": {
      "text/plain": [
       "'2.11.0'"
      ]
     },
     "execution_count": 13,
     "metadata": {},
     "output_type": "execute_result"
    }
   ],
   "source": [
    "tf.__version__"
   ]
  },
  {
   "cell_type": "code",
   "execution_count": 50,
   "id": "65f2788e-33e7-4d0a-b5c9-7391cdc553da",
   "metadata": {
    "tags": []
   },
   "outputs": [
    {
     "data": {
      "text/plain": [
       "1685.1599999999999"
      ]
     },
     "execution_count": 50,
     "metadata": {},
     "output_type": "execute_result"
    }
   ],
   "source": [
    "import pandas as pd\n",
    "pd.Series([len(x) for x in texts_vecs]).quantile(0.99)"
   ]
  },
  {
   "cell_type": "code",
   "execution_count": 43,
   "id": "bc250e1a-00f3-4472-b9e5-9fd31a403d9b",
   "metadata": {
    "tags": []
   },
   "outputs": [
    {
     "name": "stdout",
     "output_type": "stream",
     "text": [
      "Length of longest input sequence: 4426\n"
     ]
    }
   ],
   "source": [
    "MAX_LENGTH = len(max(texts_vecs, key=len))\n",
    "print(f\"Length of longest input sequence: {MAX_LENGTH}\")"
   ]
  },
  {
   "cell_type": "code",
   "execution_count": 44,
   "id": "20632215-d580-4a1e-9b62-927d036278ec",
   "metadata": {
    "tags": []
   },
   "outputs": [
    {
     "name": "stdout",
     "output_type": "stream",
     "text": [
      "Length of longest input sequence: 28\n"
     ]
    }
   ],
   "source": [
    "MAX_LENGTH = len(max(titles_vecs, key=len))\n",
    "print(f\"Length of longest input sequence: {MAX_LENGTH}\")"
   ]
  },
  {
   "cell_type": "code",
   "execution_count": 22,
   "id": "81c0c2a7-ab4c-4151-a7e6-e84bce2362fb",
   "metadata": {
    "tags": []
   },
   "outputs": [
    {
     "data": {
      "text/plain": [
       "[array([[ 0.06,  2.86, -0.39],\n",
       "        [-1.34, -1.12, -1.03],\n",
       "        [ 0.48,  0.83, -0.93],\n",
       "        [-0.54,  0.37, -0.92]]),\n",
       " array([[-0.57, -1.26,  0.6 ],\n",
       "        [-1.82,  0.39,  1.25],\n",
       "        [-0.51,  2.12, -1.35]]),\n",
       " array([[ 0.89,  1.25,  0.25],\n",
       "        [ 1.05,  1.15,  1.  ],\n",
       "        [-0.37,  0.86, -0.79],\n",
       "        [-1.69,  0.01,  0.34]]),\n",
       " array([[ 0.17,  1.33, -0.33],\n",
       "        [ 0.58, -0.54,  1.01]])]"
      ]
     },
     "execution_count": 22,
     "metadata": {},
     "output_type": "execute_result"
    }
   ],
   "source": [
    "# aqu ieu tenho uma lista de 4 sentenças represendas com word embedding\n",
    "# num espaço de embedding de dimenão 3. O número de palavras nas senenças\n",
    "# são respectivamente 4, 3, 4 e 2. Como utilizar o tensorflow para fazer um padding\n",
    "# de modo que todas as senteças tenha o mesmo número de palavras\n",
    "\n",
    "[np.random.randn(np.random.randint(2,6),3).round(2) for i in range(4)]"
   ]
  },
  {
   "cell_type": "code",
   "execution_count": null,
   "id": "5a50725f-0cc0-4ccc-a20f-4136c00f7914",
   "metadata": {},
   "outputs": [],
   "source": [
    "[\n",
    "    np.array([[0,1,0,0],[0,3,2,1],[4,6,3,6],[1,2,3,4],[6,7,9,8]]),\n",
    "    np.array([[0,1,0,0],[0,3,2,1]]),\n",
    "    np.array([[0,1,0,0],[0,3,2,1],[4,6,3,6],[1,2,3,4],[6,7,9,8]]),\n",
    "    np.array([[0,1,0,0],[0,3,2,1],[4,6,3,6],[1,2,3,4],[6,7,9,8]]),\n",
    "]"
   ]
  },
  {
   "cell_type": "code",
   "execution_count": 23,
   "id": "c49a2da1-d0df-44a3-989e-eb345af901eb",
   "metadata": {
    "tags": []
   },
   "outputs": [
    {
     "name": "stdout",
     "output_type": "stream",
     "text": [
      "Sequências originais:\n",
      "[[ 0.06  2.86 -0.39]\n",
      " [-1.34 -1.12 -1.03]\n",
      " [ 0.48  0.83 -0.93]\n",
      " [-0.54  0.37 -0.92]]\n",
      "[[-0.57 -1.26  0.6 ]\n",
      " [-1.82  0.39  1.25]\n",
      " [-0.51  2.12 -1.35]]\n",
      "[[ 0.89  1.25  0.25]\n",
      " [ 1.05  1.15  1.  ]\n",
      " [-0.37  0.86 -0.79]\n",
      " [-1.69  0.01  0.34]]\n",
      "[[ 0.17  1.33 -0.33]\n",
      " [ 0.58 -0.54  1.01]]\n",
      "\n",
      "Sequências com padding:\n",
      "[[[ 0.06  2.86 -0.39]\n",
      "  [-1.34 -1.12 -1.03]\n",
      "  [ 0.48  0.83 -0.93]\n",
      "  [-0.54  0.37 -0.92]]\n",
      "\n",
      " [[-0.57 -1.26  0.6 ]\n",
      "  [-1.82  0.39  1.25]\n",
      "  [-0.51  2.12 -1.35]\n",
      "  [ 0.    0.    0.  ]]\n",
      "\n",
      " [[ 0.89  1.25  0.25]\n",
      "  [ 1.05  1.15  1.  ]\n",
      "  [-0.37  0.86 -0.79]\n",
      "  [-1.69  0.01  0.34]]\n",
      "\n",
      " [[ 0.17  1.33 -0.33]\n",
      "  [ 0.58 -0.54  1.01]\n",
      "  [ 0.    0.    0.  ]\n",
      "  [ 0.    0.    0.  ]]]\n"
     ]
    }
   ],
   "source": [
    "import tensorflow as tf\n",
    "from tensorflow.keras.preprocessing.sequence import pad_sequences\n",
    "import numpy as np\n",
    "\n",
    "# Definir as sequências de entrada\n",
    "sentences = [\n",
    "    np.array([[ 0.06,  2.86, -0.39],\n",
    "              [-1.34, -1.12, -1.03],\n",
    "              [ 0.48,  0.83, -0.93],\n",
    "              [-0.54,  0.37, -0.92]]),\n",
    "    np.array([[-0.57, -1.26,  0.6 ],\n",
    "              [-1.82,  0.39,  1.25],\n",
    "              [-0.51,  2.12, -1.35]]),\n",
    "    np.array([[ 0.89,  1.25,  0.25],\n",
    "              [ 1.05,  1.15,  1.  ],\n",
    "              [-0.37,  0.86, -0.79],\n",
    "              [-1.69,  0.01,  0.34]]),\n",
    "    np.array([[ 0.17,  1.33, -0.33],\n",
    "              [ 0.58, -0.54,  1.01]])\n",
    "]\n",
    "\n",
    "# Fazer o padding das sequências\n",
    "padded_sequences = pad_sequences(sentences, padding='post', dtype='float32')\n",
    "\n",
    "# Imprimir as sequências de entrada originais\n",
    "print(\"Sequências originais:\")\n",
    "for s in sentences:\n",
    "    print(s)\n",
    "\n",
    "# Imprimir as sequências com padding\n",
    "print(\"\\nSequências com padding:\")\n",
    "print(padded_sequences)\n"
   ]
  },
  {
   "cell_type": "code",
   "execution_count": 9,
   "id": "d7d5a576-cc11-434f-b986-ae1925fb21cd",
   "metadata": {
    "tags": []
   },
   "outputs": [
    {
     "name": "stdout",
     "output_type": "stream",
     "text": [
      "2000 2000\n"
     ]
    }
   ],
   "source": [
    "print(len(texts_vecs), len(titles_vecs))"
   ]
  },
  {
   "cell_type": "code",
   "execution_count": 11,
   "id": "d0d84a16-dea5-41ea-9599-c88dce96a35f",
   "metadata": {
    "tags": []
   },
   "outputs": [
    {
     "data": {
      "text/plain": [
       "[['▁municípios',\n",
       "  '▁com',\n",
       "  '▁regimes',\n",
       "  '▁próprios',\n",
       "  '▁de',\n",
       "  '▁previdência',\n",
       "  '▁terão',\n",
       "  '▁dívidas',\n",
       "  '▁renego',\n",
       "  'ciadas']]"
      ]
     },
     "execution_count": 11,
     "metadata": {},
     "output_type": "execute_result"
    }
   ],
   "source": [
    "processer.get_tokens_from_vectors(titles_vecs[0])"
   ]
  },
  {
   "cell_type": "code",
   "execution_count": 10,
   "id": "258093fb-5263-4357-b260-12c0490f3139",
   "metadata": {
    "tags": []
   },
   "outputs": [
    {
     "data": {
      "text/plain": [
       "'▁teste'"
      ]
     },
     "execution_count": 10,
     "metadata": {},
     "output_type": "execute_result"
    }
   ],
   "source": [
    "processer.get_most_similar_token(vec)"
   ]
  },
  {
   "cell_type": "code",
   "execution_count": 9,
   "id": "88edc755-04ac-4752-ad1e-ca3c375870e8",
   "metadata": {
    "tags": []
   },
   "outputs": [
    {
     "data": {
      "text/plain": [
       "<bound method KeyedVectors.similar_by_vector of <gensim.models.keyedvectors.KeyedVectors object at 0x7f32d0b3fac0>>"
      ]
     },
     "execution_count": 9,
     "metadata": {},
     "output_type": "execute_result"
    }
   ],
   "source": [
    "emb.wv.similar_by_vector"
   ]
  },
  {
   "cell_type": "code",
   "execution_count": 64,
   "id": "823d7e98-1fe4-4848-8496-148206431eb0",
   "metadata": {
    "tags": []
   },
   "outputs": [
    {
     "data": {
      "text/plain": [
       "(3, 50)"
      ]
     },
     "execution_count": 64,
     "metadata": {},
     "output_type": "execute_result"
    }
   ],
   "source": [
    "tokens = processer.tokenize([\"teste de mensagem. Hoje eu vou.\", \"Agora desisti\"])\n",
    "transf = processer.get_vectors(tokens)\n",
    "transf[1].shape"
   ]
  },
  {
   "cell_type": "code",
   "execution_count": 57,
   "id": "37eb7c0e-fd4d-49ee-a607-9dda0ca5b496",
   "metadata": {
    "tags": []
   },
   "outputs": [
    {
     "data": {
      "text/plain": [
       "3"
      ]
     },
     "execution_count": 57,
     "metadata": {},
     "output_type": "execute_result"
    }
   ],
   "source": [
    "len(transf[1])"
   ]
  },
  {
   "cell_type": "code",
   "execution_count": 15,
   "id": "820e21b5-c8a5-4284-977f-6f3b65cab18c",
   "metadata": {},
   "outputs": [
    {
     "data": {
      "text/plain": [
       "['Parabéns por mostrar que a filatelia (que é o somatório de arte, educação, cultura, lazer e terapia) continua sendo o colecionismo que ainda agrada e atrai jovens de 8 a 80 anos (\"Figurinhas raras, \"Folhinha\", 16/5).  JOSÉ ANTONIO BITTENCOURT FERRAZ, presidente do Clube Filatélico e Numismático de Lorena (Lorena, SP)  *  Gostei muito da reportagem. Tudo o que envolve coleções tem minha atenção, pois envolve organização, atenção e carinho. Tenho uma coleção especial: fios de cabelos. São quase mil fios, uma coleção com mais de 30 anos (tenho 46) e fios de pessoas que passaram por minha vida.  SIMONE GIUDICI (São Paulo, SP)    *  PARTICIPAÇÃO  Os leitores podem colaborar com o conteúdo da Folha enviando notícias, fotos e vídeos (de acontecimentos ou comentários) que sejam relevantes no Brasil e no mundo. Para isso, basta acessar Envie sua Notícia ou enviar mensagem para leitor@uol.com.br',\n",
       " 'A reedição de \"Viagem Pitoresca e Histórica ao Brasil\", de Jean-Baptiste Debret, reflete a longa tradição da inquietação do Brasil, desde a formação da sua identidade nacional, para lidar com as representações da sua realidade no exterior.  Convidado ao país para ajudar a retratar o Brasil que se construía com a vinda da corte portuguesa, ele produziu um vasto documentário sobre a vida da nova nação.  Sua narrativa, em textos e gravuras, se consolidou como um clássico da formação da imagem internacional do Brasil. Ela revela como o país, que se consolidava, era interpretado por estrangeiros.    Esse exercício de alteridade construiu uma imagem de exotismo. Debret mostrava essa nova sociedade, formada por europeus, povos indígenas e escravos africanos, em paisagem humana e natural, estranha a um francês.  A imagem de nação exótica pegou, e se tornou por mais de um século a principal referência sobre o que o resto do mundo pensava sobre o Brasil – e talvez esteja ainda presente na \"marca\" do país no mundo atual.  Desde o século 19, o país lida de forma ambígua com essa imagem. Por um lado, luta para desfazê-la e se mostrar moderno e civilizado. Por outro, usa parte dessas características pictóricas (como as riquezas naturais) para se promover no exterior.  A ascensão da marca global do Brasil nos últimos anos, especialmente o crescimento econômico registrado no fim da década passada, parecem ter afastado o exotismo. O país hoje é mais conhecido, e menos estranho ao resto do mundo.  Ainda assim, a inquietação com a imagem e a ambiguidade na promoção do país continuam existindo.  Estudos de \"nation branding\", que avaliam a reputação do Brasil, indicam problemas na sua imagem. O país é visto como decorativo, um ótimo destino para férias, festas e aventuras, mas pouco sério para negócios.  Essa imagem se fortaleceu durante a Copa do Mundo, vista como grande festa global, em meio a um país cheio de problemas. A probabilidade é de que isso se repita nos relatos pictóricos dos estrangeiros que virão à Olimpíada.',\n",
       " 'O Ministério da Justiça determinou que a Polícia Federal abra inquérito para investigar as ameaças de morte ao ministro Edinho Silva (Comunicação Social) registradas na Internet.  Um internauta crítico ao PT publicou em uma página do ministro nas redes sociais um comentário afirmando que Edinho e os petistas vão morrer.  \"Olha Edição Silva [sic], filho da puta, quem vai morrer é você e os petistas\", escreveu o internauta. \"Não ande tão tranquilo. Já tem gente na sua cola. Comunista filho da puta.\".  As ameaças foram publicadas abaixo do link de uma entrevista em que o ministro pedia a retomada do diálogo. De acordo com o Ministério da Justiça, a PF já deu início à apuração do episódio.  O autor das postagens tem um perfil ativo nas redes sociais. Ele publica textos a favor do impeachment da presidente Dilma Rousseff, no Facebook, além de uma série de notícias relacionadas ao escândalo da Petrobras.  O autor das postagens tem um perfil ativo nas redes sociais. Ele publica textos contra o PT e a favor do impeachment da presidente Dilma Rousseff, no Facebook, além de uma série de notícias relacionadas ao escândalo da Petrobras.  A última mensagem postada pelo autor da ameaça é um vídeo que prega a intervenção militar e que cita, de forma distorcida, a fala feita por Edinho nesta quinta.  \"Edinho Silva veio falar que se nós não baixarmos o tom vai morrer gente. Estamos sendo ameaçados por esses vermelhos filhos da mãe. Cadê o povo, cadê o Exército, quem vai nos defender?\", indaga o homem que aparece no filme.  Edinho classificou a ameaça como \"mais um exemplo do grau de intolerância que existe no país\".  \"Hoje as pessoas falam em matar de uma forma simplista, como se isso não significasse nada. Mais uma vez digo que é preciso que todas as lideranças que têm responsabilidade com o país tomem iniciativas que combatam a intolerância\", afirmou.',\n",
       " 'O prefeito Fernando Haddad (PT) anunciou nesta terça-feira (26) um pacote anticorrupção que prevê desde demissão de servidores públicos que não comprovem a origem de seus bens à proibição de aceitar brindes com valor maior do que R$ 100.  A primeira regra estará num projeto de lei que altera o Estatuto do Servidor, prevendo a punição ao funcionário investigado por enriquecimento ilícito.  Desde o ano passado, os cerca de 155 mil funcionários públicos da cidade são obrigados a declarar seus bens à prefeitura.  A segunda está prevista num código de ética municipal que terá de ser seguido pelos agentes da administração. Segundo Haddad, o código que define quais são os atos de imoralidade do servidor será instituído por meio de um decreto.  A intenção é barrar casos de enriquecimento ilícito –que não é considerado crime no país– e agilizar a demissão de servidores corruptos na administração.  Com a alteração do estatuto, também fica mais clara a proibição de nepotismo (contratação de parentes), regra que não é bem descrita no estatuto, segundo a prefeitura.  Já o novo código de ética também proíbe prestação de serviços a pessoas físicas ou jurídicas que tenham interesse em decisões do município, além do vazamento de informações sigilosas.  Também será vetado o uso de viagens de trabalho para comparecer a eventos político-eleitorais.  O anúncio foi feito durante a divulgação de um balanço de dois anos da criação da CGM (Controladoria Geral do Município).  O órgão foi responsável por investigações como a da Máfia do ISS, que, em parceria com o Ministério Público, identificou 13 auditores fiscais suspeitos de envolvimento numa rede de corrupção no momento da arrecadação do imposto. Os 13 foram demitidos e outros 70 são investigados.  Os auditores envolvidos no esquema ofereciam a empresas descontos na cobrança do tributo em troca de propina. A apuração mostrou que um terço do que era devido não era arrecadado na cidade.  ARRECADAÇÃO  Haddad anunciou que, em dois anos, o trabalho da Controladoria vai garantir a devolução de R$ 270 milhões aos cofres públicos na arrecadação de impostos.  Desse total, cerca de R$ 100 milhões já retornaram ao caixa do município, os demais devem ser recuperados.  Só em relação à máfia do ISS, a previsão é reaver R$ 190 milhões -R$ 45 milhões já em caixa. O restante do valor refere-se a auditorias internas em contratos nas áreas de Saúde, Serviços, Esportes, Habitacão, entre outros.  Pelo menos 505 empreendimentos foram autuados por terem recolhido valores menores de tributo.',\n",
       " 'Entrevistei homens e mulheres que enfrentaram inúmeras dificuldades ao longo de suas vidas. Muitos afirmaram que faz parte do processo de amadurecimento saber lidar com os problemas de tal forma que, além de buscar a solução possível, consigam minimizar o sofrimento inevitável.  Uma atriz de 59 anos disse: \"Encontrei meu ex-marido passeando com a namorada. Parecia que ele estava se exibindo, querendo provar que estava muito mais feliz sem mim, que a vida dele melhorou depois da nossa separação. Se eu fosse mais nova iria chorar, ficar triste, ligar para minhas amigas para dizer que ele é um grande babaca. Mas eu me surpreendi com a minha reação. Decidi não me fazer de vítima e percebi que não quero ter na minha vida um homem que faz questão de me fazer sofrer. Resolvi ligar o botão do foda-se e deletá-lo da minha vida para sempre\".  Um professor de 67 anos considera que a conquista da maturidade é resultado de aprender a lidar cada vez melhor com os problemas.  \"Para mim o que importa não é o problema, mas a maneira como eu lido com ele. Sempre que aparece uma dificuldade eu tento me acalmar e dizer para mim mesmo: \\'Como eu vou administrar este problema?\\' Em vez de entrar em pânico, eu busco uma saída. E, se ela não existir, procuro uma forma mais tranquila de lidar com o problema para que ele não afete toda a minha vida. Descobri que a resposta nem sempre é sim ou não, mas algo no meio do caminho.\"  O professor já encontrou muitas soluções com o \"caminho do meio\".  \"Uma vez fui convidado para participar de um importante evento científico. Queria responder que sim, mas isso iria me custar muito em termos de saúde. Se eu respondesse que não, perderia uma excelente oportunidade profissional. Sugeri que a minha participação fosse por Skype e eles aceitaram. Não precisei sair de casa e foi um sucesso\".  Ele afirma que o segredo é focar no ganho que pode ter cada vez que consegue enfrentar as dificuldades com equilíbrio: a conquista da maturidade necessária para administrar os novos problemas que, com certeza, virão no futuro. Ele conclui: \"Minha frase preferida é: \\'a vida te ensina a viver, se você viver o suficiente\\'\".  E você, já experimentou resolver seus problemas com o \"caminho do meio\"? Qual é a sua fantasia?',\n",
       " 'O BSI, banco suíço em processo de venda para o rival EFG International, registrou saída líquida de novos recursos no segundo trimestre de 6,3 bilhões de francos suíços (US$ 6,4 bilhões). A retirada ocorre em meio a sanções sobre laços comerciais com um fundo governamental da Malásia afetado por um escândalo.  A informação sobre a saída líquida de recursos do BSI foi divulgada pelo Grupo BTG Pactual, que atualmente detém o BSI. O BTG Pactual disse na terça-feira (9) que o lucro caiu no segundo trimestre, parcialmente após a receita com gestão de fortunas sofrer com as saídas de recursos do BSI.  O banco com sede em Lugano, na Suíça, move um recurso contra uma decisão de maio do regulador financeiro suíço FINMA, que diz que o BSI violou regras sobre lavagem de dinheiro por meio de uma relação comercial e transações ligadas ao 1Malaysia Development Bhd.  Acredita-se que o fundo da Malásia conhecido como 1MDB realizou US$ 4 bilhões em negócios irregulares nos últimos anos. Investigadores em diversos países estão tentando determinar se transações relacionadas entre o 1MDB, bancos e clientes foram direcionadas para as contas de influentes políticos.  A FINMA ordenou que o BSI entregue lucros de 95 milhões de francos suíços e que pare de operar quando for integrado à EFG. O BSI disse que a decisão da FINMA é \"incorreta\". Cingapura também ordenou que as operações do BSI na cidade-Estado sejam encerradas.',\n",
       " 'Sou professora efetiva do Estado de São Paulo da diretoria de ensino centro-sul. Designada como coordenadora do centro de línguas Ipiranga desde de junho de 2014. Por trás dessa responsabilidade há uma \"maldição\", pois, quando se recebe essa designação, seu salário fica à merce de um fenômeno: ou você sofre uma demora de 3 a 4 meses para receber como tal, ou, quando encerra o ano letivo sua designação é encerrada sem que haja qualquer comando da sua unidade de frequência. Comigo aconteceu a segunda ocorrência. A direção da escola tomou todas as providências necessárias enviando novamente documentação provando meu posto. Enviei mensagem ao CPP que pediu que aguardasse, pois houve um erro de digitação na Secretaria da Fazenda. Depois que foi divulgado que haveria folha suplementar para correção desse erro, fiquei tranquila, mas quando vi a Folha Suplementar, no site da Secretaria da Fazenda, a revolta acendeu, pois sei, de acordo com experiência de várias pessoas que, provar que você tem direito ao seu salário (!) é uma via crucis. Sou professora por opção. Trabalho, defendo a qualidade de ensino e tenho agora de arcar com prejuízos que não provoquei. Pagarão os atrasos, mas meu prejuízo já foi feito: financeiro e emocional. Parece exagero? Só quem fica frustrado diante do não cumprimento de compromissos é que sabe. Nossa situação está difícil, temos de driblar necessidades para não cair em abismos de endividamento, qualquer desajuste nos desequilibra. Seria tão bom se eu me sentisse levada a sério, necessária ao desenvolvimento, como dizem as teorias sobre educação.  *  PARTICIPAÇÃO  Os leitores podem colaborar com o conteúdo da Folha enviando notícias, fotos e vídeos (de acontecimentos ou comentários) que sejam relevantes no Brasil e no mundo. Para isso, basta acessar Envie sua Notícia ou enviar mensagem para leitor@uol.com.br',\n",
       " 'O Brasil é o maior vencedor da Liga Mundial de vôlei com nove títulos. A Itália tem oito. Sérgio Escadinha, sete.  E para manter a hegemonia na competição em busca do deca, a seleção conta com o retorno do líbero após quase três anos fora do time.  Aos 39, Escadinha volta a vestir a camisa 10 verde e amarela nesta sexta-feira (29), às 14h, na estreia da equipe comandada por Bernardinho na Liga Mundial, contra a Sérvia.  \"Eu tenho procurando não pensar muito sobre essa volta. Estou aqui para trabalhar tanto quanto os outros e mostrar as minhas qualidades. Espero conseguir\", afirma.  No Mineirinho, em Belo Horizonte, jogador e seleção com mais títulos no torneio esperam começar a reencontrar o caminho dos títulos.  \"A Liga é uma competição muito especial. Está anualmente no calendário e cada vez mais forte\", lembra.  Apesar das nove conquistas, o Brasil não levanta a taça da Liga Mundial desde 2010. Escadinha não jogou aquela edição em razão de uma cirurgia para retirada de uma hérnia de disco lombar.  Desde então, foram três vices em quatro anos na Liga. No período também vieram as pratas no Mundial-2014 e na Olimpíada-2012. Escadinha pediu dispensa da seleção após os Jogos de Londres.  \"Não foi por falta de dedicação que houve essa sequência de vices. O que as pessoas precisam entender é que queremos os títulos sempre, mais do que todo mundo, mas chegar a uma final é algo muito positivo também\", diz.  Em 2009, ano de seu sétimo título em uma sequência que começou em 2001, Escadinha foi eleito o melhor jogador da Liga Mundial. Aquela foi a primeira e ainda única vez que um líbero ganhou tal prêmio em 25 edições.  Então, na preparação para a Olimpíada do Rio, Bernardinho percebeu que precisava de novo do camisa 10. Escadinha aceitou o chamado.  \"Claro que dou um gás a mais, sou pilhado nesse sentido, e cobro muito dos meus companheiros em quadra. Mas, sou cobrado também. Eles sabem que podem exigir porque eu quero corresponder\", afirma o campeão olímpico (2004) e bi mundial (2002 e 2006).  PRÓXIMOS JOGOS  O Brasil enfrenta a Sérvia nesta sexta, às 14h, e no domingo (31), às 10h, no Mineirinho. Depois, encara a Austrália dias 5 e 7 de junho, em São Bernardo do Campo (SP).  O último adversário do Grupo A é a Itália, dias 2 e 3 de julho, em Cuiabá (MT). Antes, os brasileiros viajam para os jogos na casa dos rivais.  O Brasil já está classificado para a fase final da Liga, que acontece no Rio de Janeiro, entre 14 e 19 de julho. As disputas servirão como evento-teste da Rio-2016.  Além dos anfitriões, os jogos no Maracanãzinho terão os dois melhores dos grupos A (que ainda tem Sérvia, Itália e Austrália) e B (Irã, Polônia, Rússia, Estados Unidos), além do campeão do Grupo 2 (que no total conta com Argentina, Bulgária, Canadá, Cuba, República Tcheca, França, Japão, Coreia do Sul, Bélgica, Finlândia, Portugal e Holanda.  A seleção brasileira conquistou os títulos da Liga em 1993, 2001, 2003, 2004, 2005, 2006, 2007, 2009 e 2010, além de ter outros cinco vices.  O Brasil já sediou as finais da competição quatro vezes (1993, 1995, 2002 e 2008), mas só foi campeão na primeira destas edições, em São Paulo.  NA TV Brasil x Sérvia 14h - Globo e Band',\n",
       " 'Na defesa prévia que deverá ser protocolada no Conselho de Ética do Senado na tarde desta quinta-feira (18), o senador Delcídio do Amaral (PT-MS) vai argumentar que foram \"simples jactância [bravata]\" as menções que fez sobre suposta influência política no STF (Supremo Tribunal Federal) no sentido de libertar o ex-diretor da área internacional da Petrobras Nestor Cerveró, preso pela Operação Lava Jato.  O senador é alvo de pedido, feito por PPS e Rede, de abertura de processo de cassação do mandato por quebra de decoro parlamentar, após ter sido gravado pelo filho de Cerveró, Bernardo, falando sobre providências que estaria adotando para ajudar o ex-diretor da petroleira a escapar do foco das investigações, incluindo um plano de fuga e ajuda financeira.  Na gravação, Delcídio diz a Bernardo que já conversara com dois ministros do STF, Teori Zavascki e Dias Toffoli, sobre a situação de seu pai e fala de estratégia sobre como convencer um terceiro ministro, Gilmar Mendes. Os ministros citados negaram à imprensa ter tratado com Delcídio sobre o tema.  Na peça de 23 páginas da defesa prévia do senador, subscrita pelos advogados Gilson Dipp, que foi ministro do STJ (Superior Tribunal da Justiça), Luís Henrique Machado e Raul Amaral Júnior, o senador negou ter mantido as conversas com os ministros do STF, pois \"nem o senador acusado tem esse poder institucional nem os juízes daquela corte se sujeitam a esse tipo de influência, como se percebe da gravação\".  A defesa de Delcídio afirma que \"os próprios julgadores da Suprema Corte declararam não ter recebido ou agendado com o senador qualquer reunião para tratar desse ou de qualquer tema correlato\".  Os advogados também procuram, na defesa prévia, estabelecer que o comportamento atribuído ao senador não pode ser considerado quebra de decoro parlamentar porque ocorreu fora \"do desempenho da atividade própria do mandato\".  A defesa diz que a acusação do PPS e Rede refere-se em tese ao artigo 5º do Código de Ética e Decoro Parlamentar do Senado, que prevê a perda do mandato a partir da \"prática de irregularidades graves no desempenho do mandato ou de encargos decorrentes\".  Segundo a defesa, Delcídio e Bernardo Cerveró mantinham \"uma relação de confiança\" que teria sido \"construída ao longo de décadas de amizade estreita com a família Cerveró\". Assim, dizem os advogados, Delcídio \"não atuava como parlamentar na entrevista, mas como amigo da família\". Para a defesa, \"o pano de fundo do diálogo era de uma estreita relação de confiança e amizade, de confidência\".  \"Os supostos atos –cuja realidade, repita-se, foi obtida por prova ilícita e de modo ilegal– são atos da pessoa do senador, em conversa com terceiros alheios à atividade parlamentar, sobre assunto diverso dos deveres parlamentares, deixando margem a grandes dúvidas se constituíam atos do desempenho do mandato e, mais ainda, se decorrentes de seus encargos\", afirma a defesa prévia.  Os advogados de Delcídio escreveram que \"qualquer crime atribuído a um senador\" não pode ser diretamente ligado ao desempenho do mandato, e citaram como exemplo de não incidência eventuais \"lesões corporais causadas em acidente de trânsito culposo na direção de veículo no caminho do Senado\".  A defesa atacou diversas vezes o papel de Bernardo Cerveró, caracterizado como \"um agente infiltrado e provocador, sem prévia autorização judicial\". Segundo Delcídio, ele caiu \"em uma armadilha\" acertada por Bernardo com terceiros.  \"Sua intenção [de Bernardo] não era se defender de uma eventual investida criminosa, ou até indecorosa ou antiética, mas, sim, provocar o interlocutor a pronunciar declarações comprometedoras, mediante falsa representação da realidade, para, mais tarde, utilizar-se da gravação como trunfo, a fim de entabular o acordo de colaboração de seu pai, Nestor Cerveró\", dizem os advogados.  Além da defesa prévia, os advogados de Delcídio também pedirão, em documento separado, a substituição do relator do pedido de abertura do processo de cassação, Ataídes Oliveira (PSDB-TO), sob acusação de falta de isenção por ele integrar o bloco partidário da oposição, conforme a Folha antecipou nesta segunda-feira (15). Ataídes nega estar impedido de atuar no caso.  Os dois documentos serão recebidos pelo presidente do Conselho de Ética, João Alberto (PMDB-MA), que poderá submetê-los à avaliação do plenário do Conselho.  A Folha apurou que Delcídio trabalha com prioridade para tentar um habeas corpus do STF e, assim, em liberdade poder se defender pessoalmente no Conselho de Ética, buscando o apoio de cada colega senador. O pior cenário para o parlamentar, avaliam seus defensores, é enfrentar um processo de cassação ainda atrás das grades.',\n",
       " 'A presidente do Chile, Michelle Bachelet, assinou um decreto que autoriza a venda de medicamentos derivados de cannabis em farmácias.  A medida já era esperada e foi vista como parte de um esforço das autoridades chilenas para rever a legislação sobre a maconha.  O porte da droga para uso pessoal foi descriminalizado em 2007. O plantio, a venda e o transporte de maconha continuam proibidos, com penas previstas de até 15 anos de prisão.  A assinatura do decreto ocorreu no último dia 1º, mas só foi divulgada neste sábado (5). Segundo o texto, o Instituto de Saúde Pública poderá autorizar e controlar o uso de cannabis, resina de cannabis, extratos e tinturas de cannabis para a elaboração de produtos farmacêuticos de uso humano.  Os medicamentos com a substância poderão ser vendidos em farmácias ou laboratórios mediante receita médica, que ficará retida para controle.  O documento também retira a maconha da lista 1 de drogas e a incorpora na lista 2, com substâncias como a codeína. O Ministério do Interior, contudo, não explicou se essa mudança significa efetivamente a retirada definitiva da cannabis da lista de drogas pesadas.  A maconha voltou ao destaque na imprensa chilena no mês passado, quando um tribunal de família proibiu uma mãe de amamentar sua filha recém-nascida após ela admitir que fumou a substância antes do parto. A criança ficou 12 dias retida em um hospital na cidade de Talcahuano, cerca de 550 km ao sul de Santiago, antes de ser devolvida à mãe, que apelou contra o hospital na Corte Interamericana de Direitos Humanos.  O tribunal exigiu que a mãe faça testes semanais para determinar se consome maconha.  Em julho, a Câmara dos Deputados aprovou o início da discussão de um projeto que pretende legalizar o cultivo particular de maconha para consumo medicinal e recreativo, na tentativa de descriminalizar o uso da droga e conter o tráfico no país.  A medida será analisada por uma comissão parlamentar de Saúde para, então, ser votada no plenário da Câmara e no Senado. Há poucos dias, o governo enviou ao Congresso pedido para reduzir a quantidade de maconha permitida para porte e cultivo no projeto, de dez gramas para porte e dez plantas para cultivo, para dois gramas para porte e uma planta para cultivo.  O município de La Florida, no distrito de Santiago, iniciou em outubro de 2014 o plantio de maconha medicinal, como parte de um projeto-piloto aprovado pelo governo direcionado para pacientes com câncer. A primeira colheita foi em abril deste ano.  Em 2013, o Uruguai se tornou o primeiro país da América Latina a aprovar uma lei que permite a produção e venda legal de maconha, iniciativa que tem o objetivo de reduzir a insegurança associada ao narcotráfico.']"
      ]
     },
     "execution_count": 15,
     "metadata": {},
     "output_type": "execute_result"
    }
   ],
   "source": []
  },
  {
   "cell_type": "code",
   "execution_count": null,
   "id": "ee201732-3a7b-43e2-b16c-0c06fde3de83",
   "metadata": {},
   "outputs": [],
   "source": []
  },
  {
   "cell_type": "code",
   "execution_count": null,
   "id": "bf3f9000-1bf3-41a8-9b67-e3137078f66d",
   "metadata": {},
   "outputs": [],
   "source": []
  },
  {
   "cell_type": "code",
   "execution_count": 8,
   "id": "35c01146-cb81-4128-9add-9bb0bbe3baba",
   "metadata": {
    "tags": []
   },
   "outputs": [
    {
     "data": {
      "text/plain": [
       "[('▁três', 0.8723641037940979),\n",
       " ('▁oito', 0.8701666593551636),\n",
       " ('▁cinco', 0.8675403594970703),\n",
       " ('▁nove', 0.8654859662055969),\n",
       " ('▁seis', 0.8631857633590698),\n",
       " ('▁quatro', 0.8607264161109924),\n",
       " ('▁dez', 0.8575947284698486),\n",
       " ('▁sete', 0.8480710387229919),\n",
       " ('▁doze', 0.8359367251396179),\n",
       " ('▁vários', 0.828758180141449)]"
      ]
     },
     "execution_count": 8,
     "metadata": {},
     "output_type": "execute_result"
    }
   ],
   "source": [
    "embedder.wv.most_similar(\"▁dois\")"
   ]
  },
  {
   "cell_type": "code",
   "execution_count": 5,
   "id": "77186044-bddb-490c-a7c1-4b539bfa9147",
   "metadata": {
    "tags": []
   },
   "outputs": [
    {
     "data": {
      "text/plain": [
       "array([-2.3468242e+00,  6.8137341e+00, -1.4643404e+00, -1.1822750e-01,\n",
       "       -3.8878152e+00, -3.4637120e-01,  3.0803206e+00, -6.8627906e+00,\n",
       "        3.5182815e+00,  3.8290794e+00, -8.5138006e+00, -2.4277949e+00,\n",
       "       -1.4926243e+00, -5.6872697e+00, -8.4092039e-01,  1.0705171e+00,\n",
       "        5.4289937e+00, -3.4295261e+00, -1.2320751e+00, -5.1659662e-01,\n",
       "        5.3019896e+00,  1.5884974e+00, -5.4626627e+00,  5.6278157e+00,\n",
       "        1.9585477e+00, -2.8322184e-01,  1.2161356e+00, -3.4904180e+00,\n",
       "        8.0094612e-01, -6.4040214e-02, -4.4229865e-01,  2.2009010e+00,\n",
       "        3.4180372e+00, -2.2932494e+00,  1.4665638e+01, -3.2469783e+00,\n",
       "       -1.5051919e+00,  4.7470379e-01, -2.3170009e+00,  7.3689550e-02,\n",
       "       -8.5182238e+00,  3.4171028e+00, -7.9247413e+00, -2.2553673e+00,\n",
       "        1.8577051e+00,  4.4309014e-05,  1.7016845e+00,  4.8755603e+00,\n",
       "       -1.0073901e+00, -6.7963362e+00], dtype=float32)"
      ]
     },
     "execution_count": 5,
     "metadata": {},
     "output_type": "execute_result"
    }
   ],
   "source": [
    "embedder.get_vector(\"▁homem\")"
   ]
  },
  {
   "cell_type": "code",
   "execution_count": 6,
   "id": "5c45f5ea-38dd-41aa-a82c-f7c2f68ab21f",
   "metadata": {
    "tags": []
   },
   "outputs": [
    {
     "data": {
      "text/plain": [
       "[('▁rapaz', 0.8976976275444031),\n",
       " ('▁garoto', 0.8968115448951721),\n",
       " ('▁menino', 0.8940575122833252),\n",
       " ('▁assassino', 0.8306339383125305),\n",
       " ('▁pinguim', 0.8259885311126709),\n",
       " ('▁monstro', 0.8233861327171326),\n",
       " ('▁soldado', 0.8025341629981995),\n",
       " ('▁assaltante', 0.7978926301002502),\n",
       " ('▁felino', 0.7970114350318909),\n",
       " ('▁cão', 0.7948576211929321)]"
      ]
     },
     "execution_count": 6,
     "metadata": {},
     "output_type": "execute_result"
    }
   ],
   "source": [
    "embedder.wv.most_similar(\"▁homem\")"
   ]
  },
  {
   "cell_type": "code",
   "execution_count": 7,
   "id": "3b296154-f535-4c1f-b3d2-cb3e8b248a1e",
   "metadata": {
    "tags": []
   },
   "outputs": [
    {
     "data": {
      "text/plain": [
       "[('▁mãe', 0.9230387806892395),\n",
       " ('▁filha', 0.9159747958183289),\n",
       " ('▁esposa', 0.9079855680465698),\n",
       " ('▁irmã', 0.90696781873703),\n",
       " ('▁namorada', 0.901147723197937),\n",
       " ('▁amiga', 0.8933922052383423),\n",
       " ('▁menina', 0.8767526149749756),\n",
       " ('▁enteada', 0.8766278028488159),\n",
       " ('▁avó', 0.875297486782074),\n",
       " ('▁companheira', 0.8721087574958801)]"
      ]
     },
     "execution_count": 7,
     "metadata": {},
     "output_type": "execute_result"
    }
   ],
   "source": [
    "embedder.wv.most_similar(\"▁mulher\")"
   ]
  },
  {
   "cell_type": "code",
   "execution_count": 8,
   "id": "43dad988-b3f8-41f5-a18a-ae0c62bfc1f8",
   "metadata": {
    "tags": []
   },
   "outputs": [
    {
     "data": {
      "text/plain": [
       "[('▁veículo', 0.9137380123138428),\n",
       " ('▁caminhão', 0.9056364893913269),\n",
       " ('▁motorista', 0.8465127348899841),\n",
       " ('▁helicóptero', 0.8387037515640259),\n",
       " ('▁carrinho', 0.8258286714553833),\n",
       " ('▁elevador', 0.8252330422401428),\n",
       " ('▁barraco', 0.8244249820709229),\n",
       " ('▁pneu', 0.821903645992279),\n",
       " ('▁vagão', 0.8143818378448486),\n",
       " ('▁barco', 0.814140260219574)]"
      ]
     },
     "execution_count": 8,
     "metadata": {},
     "output_type": "execute_result"
    }
   ],
   "source": [
    "embedder.wv.most_similar(\"▁carro\")"
   ]
  },
  {
   "cell_type": "code",
   "execution_count": 9,
   "id": "dbb22fb8-8094-4987-a929-e6ba41bb657c",
   "metadata": {
    "tags": []
   },
   "outputs": [
    {
     "data": {
      "text/plain": [
       "[('▁helicóptero', 0.9103664755821228),\n",
       " ('▁navio', 0.8810691833496094),\n",
       " ('▁voo', 0.8689661026000977),\n",
       " ('▁barco', 0.8431477546691895),\n",
       " ('▁caminhão', 0.81184983253479),\n",
       " ('▁carro', 0.8110244274139404),\n",
       " ('▁drone', 0.8100888133049011),\n",
       " ('▁cargueiro', 0.8027729988098145),\n",
       " ('▁comboio', 0.7944729328155518),\n",
       " ('▁veículo', 0.7877556681632996)]"
      ]
     },
     "execution_count": 9,
     "metadata": {},
     "output_type": "execute_result"
    }
   ],
   "source": [
    "embedder.wv.most_similar(\"▁avião\")"
   ]
  },
  {
   "cell_type": "code",
   "execution_count": 10,
   "id": "2d6dfd58-958a-425d-a1b3-deec4f1b7b3e",
   "metadata": {
    "tags": []
   },
   "outputs": [
    {
     "data": {
      "text/plain": [
       "[('▁réveillon', 0.8524163365364075),\n",
       " ('▁sambódromo', 0.8183432817459106),\n",
       " ('▁desfile', 0.8170649409294128),\n",
       " ('▁baile', 0.7560688257217407),\n",
       " ('▁círio', 0.7525671720504761),\n",
       " ('▁feriado', 0.7357999682426453),\n",
       " ('▁show', 0.7356415390968323),\n",
       " ('▁palco', 0.7276540994644165),\n",
       " ('▁samba', 0.7203671336174011),\n",
       " ('▁verão', 0.7199791073799133)]"
      ]
     },
     "execution_count": 10,
     "metadata": {},
     "output_type": "execute_result"
    }
   ],
   "source": [
    "embedder.wv.most_similar(\"▁carnaval\")"
   ]
  },
  {
   "cell_type": "code",
   "execution_count": 11,
   "id": "1de2fa29-b440-44d7-9010-4772d896220b",
   "metadata": {
    "tags": []
   },
   "outputs": [
    {
     "data": {
      "text/plain": [
       "[('▁palmeiras', 0.9916632771492004),\n",
       " ('▁flamengo', 0.9533402919769287),\n",
       " ('▁grêmio', 0.946609377861023),\n",
       " ('▁audax', 0.9291609525680542),\n",
       " ('▁vasco', 0.926048219203949),\n",
       " ('▁coritiba', 0.9118771553039551),\n",
       " ('▁sport', 0.8998237252235413),\n",
       " ('▁figueirense', 0.8963984847068787),\n",
       " ('▁barça', 0.8899548053741455),\n",
       " ('▁avaí', 0.8875383138656616)]"
      ]
     },
     "execution_count": 11,
     "metadata": {},
     "output_type": "execute_result"
    }
   ],
   "source": [
    "embedder.wv.most_similar(\"▁corinthians\")"
   ]
  },
  {
   "cell_type": "code",
   "execution_count": 12,
   "id": "39ec4875-b8c5-46ab-97e0-4fe3e3b80408",
   "metadata": {
    "tags": []
   },
   "outputs": [
    {
     "data": {
      "text/plain": [
       "0.8110244"
      ]
     },
     "execution_count": 12,
     "metadata": {},
     "output_type": "execute_result"
    }
   ],
   "source": [
    "embedder.wv.similarity(\"▁carro\", \"▁avião\")"
   ]
  },
  {
   "cell_type": "code",
   "execution_count": 13,
   "id": "18f70eaa-cb2f-4fd0-b4dd-fa4bc9daa631",
   "metadata": {
    "tags": []
   },
   "outputs": [
    {
     "data": {
      "text/plain": [
       "0.48851633"
      ]
     },
     "execution_count": 13,
     "metadata": {},
     "output_type": "execute_result"
    }
   ],
   "source": [
    "embedder.wv.similarity(\"▁velho\", \"▁homem\")"
   ]
  },
  {
   "cell_type": "code",
   "execution_count": 14,
   "id": "4cc06b87-c769-472e-81cf-f3e5651ea21b",
   "metadata": {
    "tags": []
   },
   "outputs": [
    {
     "data": {
      "text/plain": [
       "0.33917713"
      ]
     },
     "execution_count": 14,
     "metadata": {},
     "output_type": "execute_result"
    }
   ],
   "source": [
    "embedder.wv.similarity(\"▁velha\", \"▁mulher\")"
   ]
  },
  {
   "cell_type": "code",
   "execution_count": 15,
   "id": "c2e60055-37fa-4ee0-9ad5-f6eb14119e73",
   "metadata": {
    "tags": []
   },
   "outputs": [
    {
     "data": {
      "text/plain": [
       "0.53674597"
      ]
     },
     "execution_count": 15,
     "metadata": {},
     "output_type": "execute_result"
    }
   ],
   "source": [
    "embedder.wv.similarity(\"▁novela\", \"▁globo\")"
   ]
  },
  {
   "cell_type": "code",
   "execution_count": 28,
   "id": "e8fc4065-a29d-4e6d-8282-a4cd03933971",
   "metadata": {
    "tags": []
   },
   "outputs": [
    {
     "data": {
      "text/plain": [
       "[('▁navio', 0.8869611024856567),\n",
       " ('▁avião', 0.8431476950645447),\n",
       " ('▁trem', 0.8282049298286438),\n",
       " ('▁jipe', 0.8266261219978333),\n",
       " ('▁caminhão', 0.8176475167274475),\n",
       " ('▁veleiro', 0.8168447017669678),\n",
       " ('▁carro', 0.814140260219574),\n",
       " ('▁helicóptero', 0.7995263338088989),\n",
       " ('▁píer', 0.7976621389389038),\n",
       " ('▁voo', 0.7964310646057129)]"
      ]
     },
     "execution_count": 28,
     "metadata": {},
     "output_type": "execute_result"
    }
   ],
   "source": [
    "embedder.wv.most_similar(\"▁barco\")"
   ]
  },
  {
   "cell_type": "code",
   "execution_count": 29,
   "id": "0754415c-f7b6-47a0-8de3-e39b8f5b9a2e",
   "metadata": {
    "tags": []
   },
   "outputs": [
    {
     "data": {
      "text/plain": [
       "[('▁laptop', 0.8611619472503662),\n",
       " ('▁tablet', 0.8534693717956543),\n",
       " ('▁celular', 0.8467183709144592),\n",
       " ('▁chip', 0.8394709229469299),\n",
       " ('▁computador', 0.8318821787834167),\n",
       " ('▁smartphone', 0.8209793567657471),\n",
       " ('▁envelope', 0.8171899318695068),\n",
       " ('▁carregador', 0.7928250432014465),\n",
       " ('▁ipad', 0.7898997068405151),\n",
       " ('▁aparelho', 0.7794108390808105)]"
      ]
     },
     "execution_count": 29,
     "metadata": {},
     "output_type": "execute_result"
    }
   ],
   "source": [
    "embedder.wv.most_similar(\"▁notebook\")"
   ]
  },
  {
   "cell_type": "code",
   "execution_count": 37,
   "id": "28358335-81c1-4238-a6de-aa24d94651e6",
   "metadata": {
    "tags": []
   },
   "outputs": [
    {
     "data": {
      "text/plain": [
       "[('▁pedra', 0.8377714157104492),\n",
       " ('▁poça', 0.826803982257843),\n",
       " ('▁cratera', 0.8137418627738953),\n",
       " ('▁lona', 0.8065041303634644),\n",
       " ('▁poeira', 0.7948131561279297),\n",
       " ('▁cabana', 0.788944661617279),\n",
       " ('▁laje', 0.7798771858215332),\n",
       " ('▁montanha', 0.7764739394187927),\n",
       " ('▁escada', 0.7695632576942444),\n",
       " ('▁parede', 0.7683671116828918)]"
      ]
     },
     "execution_count": 37,
     "metadata": {},
     "output_type": "execute_result"
    }
   ],
   "source": [
    "embedder.wv.most_similar(\"▁árvore\")"
   ]
  },
  {
   "cell_type": "code",
   "execution_count": null,
   "id": "a92c1a77-ff46-45fc-b44e-36247db2b8dc",
   "metadata": {},
   "outputs": [],
   "source": []
  }
 ],
 "metadata": {
  "kernelspec": {
   "display_name": "deep-learning",
   "language": "python",
   "name": "deep-learning"
  },
  "language_info": {
   "codemirror_mode": {
    "name": "ipython",
    "version": 3
   },
   "file_extension": ".py",
   "mimetype": "text/x-python",
   "name": "python",
   "nbconvert_exporter": "python",
   "pygments_lexer": "ipython3",
   "version": "3.10.9"
  }
 },
 "nbformat": 4,
 "nbformat_minor": 5
}
